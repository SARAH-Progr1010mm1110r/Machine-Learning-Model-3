{
  "nbformat": 4,
  "nbformat_minor": 0,
  "metadata": {
    "colab": {
      "provenance": []
    },
    "kernelspec": {
      "name": "python3",
      "display_name": "Python 3"
    },
    "language_info": {
      "name": "python"
    }
  },
  "cells": [
    {
      "cell_type": "markdown",
      "source": [
        "# **Linear Regression Model**\n",
        "\n",
        "**Option 1 [Challenging]**\n",
        "\n",
        "\n",
        "---\n",
        "\n",
        "\n",
        "\n",
        "*   Use the tips dataset and apply a logistic regression model to the tips dataset. Bin a continuous variable (tips column into 3 different categories).\n",
        "*   Your 3 categories for your continuous variable will be:\n",
        "    * Bad Tipper\n",
        "    * Good Tipper\n",
        "    * Excellent Tipper\n",
        "*   Also, create a linear regression that predicts the tips column as well.\n",
        "*   Compare your results from the linear and logistic regression using the following criteria:\n",
        "    * If your predicted regression is exceeding 10% tolerance (error) then consider it a false prediction, otherwise, it is true.\n",
        "    * Example: If the actual value is $1 and your prediction is [0.9, 1.10] this is true, otherwise it is false.\n",
        "    * Compare the false prediction between your classification and regression models and see which one performed better."
      ],
      "metadata": {
        "id": "2-5bsk_m-XqC"
      }
    },
    {
      "cell_type": "markdown",
      "source": [
        "The Tips dataset is a data frame with 244 rows and 7 variables.\n",
        "\n",
        "variables: \n",
        "* **tip** in dollars \n",
        "* **bill** in dollars\n",
        "* **sex**of the bill payer\n",
        "* whether there were **smokers** in the party\n",
        "* **day** of the week\n",
        "* **time** of day \n",
        "* **size**of the party"
      ],
      "metadata": {
        "id": "mTlU3vngEogv"
      }
    },
    {
      "cell_type": "code",
      "execution_count": 210,
      "metadata": {
        "id": "--1xOob6-VzX"
      },
      "outputs": [],
      "source": [
        "#Importing required libraries\n",
        "import numpy as np\n",
        "import matplotlib.pyplot as plt\n",
        "import pandas as pd\n",
        "import seaborn as sns\n",
        "%matplotlib inline\n",
        "\n",
        "from sklearn.model_selection import train_test_split\n",
        "from sklearn.preprocessing import StandardScaler\n",
        "from sklearn.linear_model import LinearRegression\n",
        "\n",
        "from sklearn.metrics import plot_confusion_matrix\n",
        "from sklearn.metrics import accuracy_score\n",
        "from sklearn.metrics import confusion_matrix\n",
        "from sklearn.metrics import classification_report\n",
        "from sklearn import metrics\n",
        "from sklearn.model_selection import cross_val_score\n",
        "\n",
        "from sklearn.preprocessing import OneHotEncoder\n",
        "from sklearn.preprocessing import OrdinalEncoder"
      ]
    },
    {
      "cell_type": "code",
      "source": [
        "df_assg = sns.load_dataset(\"tips\")\n",
        "df_assg.head()"
      ],
      "metadata": {
        "colab": {
          "base_uri": "https://localhost:8080/",
          "height": 0
        },
        "id": "zuYmK5Iz_7O1",
        "outputId": "0129ca24-c10a-4a5f-e8c7-5cbd77e549ff"
      },
      "execution_count": 211,
      "outputs": [
        {
          "output_type": "execute_result",
          "data": {
            "text/plain": [
              "   total_bill   tip     sex smoker  day    time  size\n",
              "0       16.99  1.01  Female     No  Sun  Dinner     2\n",
              "1       10.34  1.66    Male     No  Sun  Dinner     3\n",
              "2       21.01  3.50    Male     No  Sun  Dinner     3\n",
              "3       23.68  3.31    Male     No  Sun  Dinner     2\n",
              "4       24.59  3.61  Female     No  Sun  Dinner     4"
            ],
            "text/html": [
              "\n",
              "  <div id=\"df-8b3555c7-7d3e-4bc9-ad98-2ca06c6dcfef\">\n",
              "    <div class=\"colab-df-container\">\n",
              "      <div>\n",
              "<style scoped>\n",
              "    .dataframe tbody tr th:only-of-type {\n",
              "        vertical-align: middle;\n",
              "    }\n",
              "\n",
              "    .dataframe tbody tr th {\n",
              "        vertical-align: top;\n",
              "    }\n",
              "\n",
              "    .dataframe thead th {\n",
              "        text-align: right;\n",
              "    }\n",
              "</style>\n",
              "<table border=\"1\" class=\"dataframe\">\n",
              "  <thead>\n",
              "    <tr style=\"text-align: right;\">\n",
              "      <th></th>\n",
              "      <th>total_bill</th>\n",
              "      <th>tip</th>\n",
              "      <th>sex</th>\n",
              "      <th>smoker</th>\n",
              "      <th>day</th>\n",
              "      <th>time</th>\n",
              "      <th>size</th>\n",
              "    </tr>\n",
              "  </thead>\n",
              "  <tbody>\n",
              "    <tr>\n",
              "      <th>0</th>\n",
              "      <td>16.99</td>\n",
              "      <td>1.01</td>\n",
              "      <td>Female</td>\n",
              "      <td>No</td>\n",
              "      <td>Sun</td>\n",
              "      <td>Dinner</td>\n",
              "      <td>2</td>\n",
              "    </tr>\n",
              "    <tr>\n",
              "      <th>1</th>\n",
              "      <td>10.34</td>\n",
              "      <td>1.66</td>\n",
              "      <td>Male</td>\n",
              "      <td>No</td>\n",
              "      <td>Sun</td>\n",
              "      <td>Dinner</td>\n",
              "      <td>3</td>\n",
              "    </tr>\n",
              "    <tr>\n",
              "      <th>2</th>\n",
              "      <td>21.01</td>\n",
              "      <td>3.50</td>\n",
              "      <td>Male</td>\n",
              "      <td>No</td>\n",
              "      <td>Sun</td>\n",
              "      <td>Dinner</td>\n",
              "      <td>3</td>\n",
              "    </tr>\n",
              "    <tr>\n",
              "      <th>3</th>\n",
              "      <td>23.68</td>\n",
              "      <td>3.31</td>\n",
              "      <td>Male</td>\n",
              "      <td>No</td>\n",
              "      <td>Sun</td>\n",
              "      <td>Dinner</td>\n",
              "      <td>2</td>\n",
              "    </tr>\n",
              "    <tr>\n",
              "      <th>4</th>\n",
              "      <td>24.59</td>\n",
              "      <td>3.61</td>\n",
              "      <td>Female</td>\n",
              "      <td>No</td>\n",
              "      <td>Sun</td>\n",
              "      <td>Dinner</td>\n",
              "      <td>4</td>\n",
              "    </tr>\n",
              "  </tbody>\n",
              "</table>\n",
              "</div>\n",
              "      <button class=\"colab-df-convert\" onclick=\"convertToInteractive('df-8b3555c7-7d3e-4bc9-ad98-2ca06c6dcfef')\"\n",
              "              title=\"Convert this dataframe to an interactive table.\"\n",
              "              style=\"display:none;\">\n",
              "        \n",
              "  <svg xmlns=\"http://www.w3.org/2000/svg\" height=\"24px\"viewBox=\"0 0 24 24\"\n",
              "       width=\"24px\">\n",
              "    <path d=\"M0 0h24v24H0V0z\" fill=\"none\"/>\n",
              "    <path d=\"M18.56 5.44l.94 2.06.94-2.06 2.06-.94-2.06-.94-.94-2.06-.94 2.06-2.06.94zm-11 1L8.5 8.5l.94-2.06 2.06-.94-2.06-.94L8.5 2.5l-.94 2.06-2.06.94zm10 10l.94 2.06.94-2.06 2.06-.94-2.06-.94-.94-2.06-.94 2.06-2.06.94z\"/><path d=\"M17.41 7.96l-1.37-1.37c-.4-.4-.92-.59-1.43-.59-.52 0-1.04.2-1.43.59L10.3 9.45l-7.72 7.72c-.78.78-.78 2.05 0 2.83L4 21.41c.39.39.9.59 1.41.59.51 0 1.02-.2 1.41-.59l7.78-7.78 2.81-2.81c.8-.78.8-2.07 0-2.86zM5.41 20L4 18.59l7.72-7.72 1.47 1.35L5.41 20z\"/>\n",
              "  </svg>\n",
              "      </button>\n",
              "      \n",
              "  <style>\n",
              "    .colab-df-container {\n",
              "      display:flex;\n",
              "      flex-wrap:wrap;\n",
              "      gap: 12px;\n",
              "    }\n",
              "\n",
              "    .colab-df-convert {\n",
              "      background-color: #E8F0FE;\n",
              "      border: none;\n",
              "      border-radius: 50%;\n",
              "      cursor: pointer;\n",
              "      display: none;\n",
              "      fill: #1967D2;\n",
              "      height: 32px;\n",
              "      padding: 0 0 0 0;\n",
              "      width: 32px;\n",
              "    }\n",
              "\n",
              "    .colab-df-convert:hover {\n",
              "      background-color: #E2EBFA;\n",
              "      box-shadow: 0px 1px 2px rgba(60, 64, 67, 0.3), 0px 1px 3px 1px rgba(60, 64, 67, 0.15);\n",
              "      fill: #174EA6;\n",
              "    }\n",
              "\n",
              "    [theme=dark] .colab-df-convert {\n",
              "      background-color: #3B4455;\n",
              "      fill: #D2E3FC;\n",
              "    }\n",
              "\n",
              "    [theme=dark] .colab-df-convert:hover {\n",
              "      background-color: #434B5C;\n",
              "      box-shadow: 0px 1px 3px 1px rgba(0, 0, 0, 0.15);\n",
              "      filter: drop-shadow(0px 1px 2px rgba(0, 0, 0, 0.3));\n",
              "      fill: #FFFFFF;\n",
              "    }\n",
              "  </style>\n",
              "\n",
              "      <script>\n",
              "        const buttonEl =\n",
              "          document.querySelector('#df-8b3555c7-7d3e-4bc9-ad98-2ca06c6dcfef button.colab-df-convert');\n",
              "        buttonEl.style.display =\n",
              "          google.colab.kernel.accessAllowed ? 'block' : 'none';\n",
              "\n",
              "        async function convertToInteractive(key) {\n",
              "          const element = document.querySelector('#df-8b3555c7-7d3e-4bc9-ad98-2ca06c6dcfef');\n",
              "          const dataTable =\n",
              "            await google.colab.kernel.invokeFunction('convertToInteractive',\n",
              "                                                     [key], {});\n",
              "          if (!dataTable) return;\n",
              "\n",
              "          const docLinkHtml = 'Like what you see? Visit the ' +\n",
              "            '<a target=\"_blank\" href=https://colab.research.google.com/notebooks/data_table.ipynb>data table notebook</a>'\n",
              "            + ' to learn more about interactive tables.';\n",
              "          element.innerHTML = '';\n",
              "          dataTable['output_type'] = 'display_data';\n",
              "          await google.colab.output.renderOutput(dataTable, element);\n",
              "          const docLink = document.createElement('div');\n",
              "          docLink.innerHTML = docLinkHtml;\n",
              "          element.appendChild(docLink);\n",
              "        }\n",
              "      </script>\n",
              "    </div>\n",
              "  </div>\n",
              "  "
            ]
          },
          "metadata": {},
          "execution_count": 211
        }
      ]
    },
    {
      "cell_type": "code",
      "source": [
        "df_assg.info()"
      ],
      "metadata": {
        "colab": {
          "base_uri": "https://localhost:8080/"
        },
        "id": "O4rDjxe4Nt3D",
        "outputId": "4515f525-15b1-4469-b330-41846b66ea47"
      },
      "execution_count": 212,
      "outputs": [
        {
          "output_type": "stream",
          "name": "stdout",
          "text": [
            "<class 'pandas.core.frame.DataFrame'>\n",
            "RangeIndex: 244 entries, 0 to 243\n",
            "Data columns (total 7 columns):\n",
            " #   Column      Non-Null Count  Dtype   \n",
            "---  ------      --------------  -----   \n",
            " 0   total_bill  244 non-null    float64 \n",
            " 1   tip         244 non-null    float64 \n",
            " 2   sex         244 non-null    category\n",
            " 3   smoker      244 non-null    category\n",
            " 4   day         244 non-null    category\n",
            " 5   time        244 non-null    category\n",
            " 6   size        244 non-null    int64   \n",
            "dtypes: category(4), float64(2), int64(1)\n",
            "memory usage: 7.4 KB\n"
          ]
        }
      ]
    },
    {
      "cell_type": "code",
      "source": [
        "df_assg.shape"
      ],
      "metadata": {
        "colab": {
          "base_uri": "https://localhost:8080/"
        },
        "id": "_CNrE7oKNtul",
        "outputId": "b7b3eb90-b732-485a-c025-74481811afe3"
      },
      "execution_count": 213,
      "outputs": [
        {
          "output_type": "execute_result",
          "data": {
            "text/plain": [
              "(244, 7)"
            ]
          },
          "metadata": {},
          "execution_count": 213
        }
      ]
    },
    {
      "cell_type": "code",
      "source": [
        "df_assg.describe()"
      ],
      "metadata": {
        "colab": {
          "base_uri": "https://localhost:8080/",
          "height": 0
        },
        "id": "YiaQamRWNtnf",
        "outputId": "ce94c7eb-d6e5-4e97-fbf8-3ea0eece9728"
      },
      "execution_count": 214,
      "outputs": [
        {
          "output_type": "execute_result",
          "data": {
            "text/plain": [
              "       total_bill         tip        size\n",
              "count  244.000000  244.000000  244.000000\n",
              "mean    19.785943    2.998279    2.569672\n",
              "std      8.902412    1.383638    0.951100\n",
              "min      3.070000    1.000000    1.000000\n",
              "25%     13.347500    2.000000    2.000000\n",
              "50%     17.795000    2.900000    2.000000\n",
              "75%     24.127500    3.562500    3.000000\n",
              "max     50.810000   10.000000    6.000000"
            ],
            "text/html": [
              "\n",
              "  <div id=\"df-cd431a42-979f-4aa9-a77e-36e50e288bec\">\n",
              "    <div class=\"colab-df-container\">\n",
              "      <div>\n",
              "<style scoped>\n",
              "    .dataframe tbody tr th:only-of-type {\n",
              "        vertical-align: middle;\n",
              "    }\n",
              "\n",
              "    .dataframe tbody tr th {\n",
              "        vertical-align: top;\n",
              "    }\n",
              "\n",
              "    .dataframe thead th {\n",
              "        text-align: right;\n",
              "    }\n",
              "</style>\n",
              "<table border=\"1\" class=\"dataframe\">\n",
              "  <thead>\n",
              "    <tr style=\"text-align: right;\">\n",
              "      <th></th>\n",
              "      <th>total_bill</th>\n",
              "      <th>tip</th>\n",
              "      <th>size</th>\n",
              "    </tr>\n",
              "  </thead>\n",
              "  <tbody>\n",
              "    <tr>\n",
              "      <th>count</th>\n",
              "      <td>244.000000</td>\n",
              "      <td>244.000000</td>\n",
              "      <td>244.000000</td>\n",
              "    </tr>\n",
              "    <tr>\n",
              "      <th>mean</th>\n",
              "      <td>19.785943</td>\n",
              "      <td>2.998279</td>\n",
              "      <td>2.569672</td>\n",
              "    </tr>\n",
              "    <tr>\n",
              "      <th>std</th>\n",
              "      <td>8.902412</td>\n",
              "      <td>1.383638</td>\n",
              "      <td>0.951100</td>\n",
              "    </tr>\n",
              "    <tr>\n",
              "      <th>min</th>\n",
              "      <td>3.070000</td>\n",
              "      <td>1.000000</td>\n",
              "      <td>1.000000</td>\n",
              "    </tr>\n",
              "    <tr>\n",
              "      <th>25%</th>\n",
              "      <td>13.347500</td>\n",
              "      <td>2.000000</td>\n",
              "      <td>2.000000</td>\n",
              "    </tr>\n",
              "    <tr>\n",
              "      <th>50%</th>\n",
              "      <td>17.795000</td>\n",
              "      <td>2.900000</td>\n",
              "      <td>2.000000</td>\n",
              "    </tr>\n",
              "    <tr>\n",
              "      <th>75%</th>\n",
              "      <td>24.127500</td>\n",
              "      <td>3.562500</td>\n",
              "      <td>3.000000</td>\n",
              "    </tr>\n",
              "    <tr>\n",
              "      <th>max</th>\n",
              "      <td>50.810000</td>\n",
              "      <td>10.000000</td>\n",
              "      <td>6.000000</td>\n",
              "    </tr>\n",
              "  </tbody>\n",
              "</table>\n",
              "</div>\n",
              "      <button class=\"colab-df-convert\" onclick=\"convertToInteractive('df-cd431a42-979f-4aa9-a77e-36e50e288bec')\"\n",
              "              title=\"Convert this dataframe to an interactive table.\"\n",
              "              style=\"display:none;\">\n",
              "        \n",
              "  <svg xmlns=\"http://www.w3.org/2000/svg\" height=\"24px\"viewBox=\"0 0 24 24\"\n",
              "       width=\"24px\">\n",
              "    <path d=\"M0 0h24v24H0V0z\" fill=\"none\"/>\n",
              "    <path d=\"M18.56 5.44l.94 2.06.94-2.06 2.06-.94-2.06-.94-.94-2.06-.94 2.06-2.06.94zm-11 1L8.5 8.5l.94-2.06 2.06-.94-2.06-.94L8.5 2.5l-.94 2.06-2.06.94zm10 10l.94 2.06.94-2.06 2.06-.94-2.06-.94-.94-2.06-.94 2.06-2.06.94z\"/><path d=\"M17.41 7.96l-1.37-1.37c-.4-.4-.92-.59-1.43-.59-.52 0-1.04.2-1.43.59L10.3 9.45l-7.72 7.72c-.78.78-.78 2.05 0 2.83L4 21.41c.39.39.9.59 1.41.59.51 0 1.02-.2 1.41-.59l7.78-7.78 2.81-2.81c.8-.78.8-2.07 0-2.86zM5.41 20L4 18.59l7.72-7.72 1.47 1.35L5.41 20z\"/>\n",
              "  </svg>\n",
              "      </button>\n",
              "      \n",
              "  <style>\n",
              "    .colab-df-container {\n",
              "      display:flex;\n",
              "      flex-wrap:wrap;\n",
              "      gap: 12px;\n",
              "    }\n",
              "\n",
              "    .colab-df-convert {\n",
              "      background-color: #E8F0FE;\n",
              "      border: none;\n",
              "      border-radius: 50%;\n",
              "      cursor: pointer;\n",
              "      display: none;\n",
              "      fill: #1967D2;\n",
              "      height: 32px;\n",
              "      padding: 0 0 0 0;\n",
              "      width: 32px;\n",
              "    }\n",
              "\n",
              "    .colab-df-convert:hover {\n",
              "      background-color: #E2EBFA;\n",
              "      box-shadow: 0px 1px 2px rgba(60, 64, 67, 0.3), 0px 1px 3px 1px rgba(60, 64, 67, 0.15);\n",
              "      fill: #174EA6;\n",
              "    }\n",
              "\n",
              "    [theme=dark] .colab-df-convert {\n",
              "      background-color: #3B4455;\n",
              "      fill: #D2E3FC;\n",
              "    }\n",
              "\n",
              "    [theme=dark] .colab-df-convert:hover {\n",
              "      background-color: #434B5C;\n",
              "      box-shadow: 0px 1px 3px 1px rgba(0, 0, 0, 0.15);\n",
              "      filter: drop-shadow(0px 1px 2px rgba(0, 0, 0, 0.3));\n",
              "      fill: #FFFFFF;\n",
              "    }\n",
              "  </style>\n",
              "\n",
              "      <script>\n",
              "        const buttonEl =\n",
              "          document.querySelector('#df-cd431a42-979f-4aa9-a77e-36e50e288bec button.colab-df-convert');\n",
              "        buttonEl.style.display =\n",
              "          google.colab.kernel.accessAllowed ? 'block' : 'none';\n",
              "\n",
              "        async function convertToInteractive(key) {\n",
              "          const element = document.querySelector('#df-cd431a42-979f-4aa9-a77e-36e50e288bec');\n",
              "          const dataTable =\n",
              "            await google.colab.kernel.invokeFunction('convertToInteractive',\n",
              "                                                     [key], {});\n",
              "          if (!dataTable) return;\n",
              "\n",
              "          const docLinkHtml = 'Like what you see? Visit the ' +\n",
              "            '<a target=\"_blank\" href=https://colab.research.google.com/notebooks/data_table.ipynb>data table notebook</a>'\n",
              "            + ' to learn more about interactive tables.';\n",
              "          element.innerHTML = '';\n",
              "          dataTable['output_type'] = 'display_data';\n",
              "          await google.colab.output.renderOutput(dataTable, element);\n",
              "          const docLink = document.createElement('div');\n",
              "          docLink.innerHTML = docLinkHtml;\n",
              "          element.appendChild(docLink);\n",
              "        }\n",
              "      </script>\n",
              "    </div>\n",
              "  </div>\n",
              "  "
            ]
          },
          "metadata": {},
          "execution_count": 214
        }
      ]
    },
    {
      "cell_type": "markdown",
      "source": [
        "Check if there are missing data!"
      ],
      "metadata": {
        "id": "wNATh72MOdGC"
      }
    },
    {
      "cell_type": "code",
      "source": [
        "df_assg.isnull().sum()"
      ],
      "metadata": {
        "colab": {
          "base_uri": "https://localhost:8080/"
        },
        "id": "AAoK0MT6Nw62",
        "outputId": "2e465755-6d65-4c0f-d854-8bb71a788e75"
      },
      "execution_count": 215,
      "outputs": [
        {
          "output_type": "execute_result",
          "data": {
            "text/plain": [
              "total_bill    0\n",
              "tip           0\n",
              "sex           0\n",
              "smoker        0\n",
              "day           0\n",
              "time          0\n",
              "size          0\n",
              "dtype: int64"
            ]
          },
          "metadata": {},
          "execution_count": 215
        }
      ]
    },
    {
      "cell_type": "code",
      "source": [
        "sns.heatmap(df_assg.isnull(),yticklabels=False,cbar=False,cmap='viridis')"
      ],
      "metadata": {
        "colab": {
          "base_uri": "https://localhost:8080/",
          "height": 0
        },
        "id": "koaUX4C1hAtG",
        "outputId": "e5afa2ab-b673-4667-9bf7-f95261e0deb3"
      },
      "execution_count": 216,
      "outputs": [
        {
          "output_type": "execute_result",
          "data": {
            "text/plain": [
              "<matplotlib.axes._subplots.AxesSubplot at 0x7fbb58b84890>"
            ]
          },
          "metadata": {},
          "execution_count": 216
        },
        {
          "output_type": "display_data",
          "data": {
            "text/plain": [
              "<Figure size 432x288 with 1 Axes>"
            ],
            "image/png": "[encoded data removed]"
          },
          "metadata": {
            "needs_background": "light"
          }
        }
      ]
    },
    {
      "cell_type": "code",
      "source": [
        "for i in df_assg.columns:\n",
        "    print(df_assg[i].unique())"
      ],
      "metadata": {
        "colab": {
          "base_uri": "https://localhost:8080/"
        },
        "id": "_4s5W_O4KwUR",
        "outputId": "afe591fc-4d0e-430e-e4ff-473581bdd71e"
      },
      "execution_count": 217,
      "outputs": [
        {
          "output_type": "stream",
          "name": "stdout",
          "text": [
            "[16.99 10.34 21.01 23.68 24.59 25.29  8.77 26.88 15.04 14.78 10.27 35.26\n",
            " 15.42 18.43 14.83 21.58 10.33 16.29 16.97 20.65 17.92 20.29 15.77 39.42\n",
            " 19.82 17.81 13.37 12.69 21.7  19.65  9.55 18.35 15.06 20.69 17.78 24.06\n",
            " 16.31 16.93 18.69 31.27 16.04 17.46 13.94  9.68 30.4  18.29 22.23 32.4\n",
            " 28.55 18.04 12.54 10.29 34.81  9.94 25.56 19.49 38.01 26.41 11.24 48.27\n",
            " 13.81 11.02 17.59 20.08 16.45  3.07 20.23 15.01 12.02 17.07 26.86 25.28\n",
            " 14.73 10.51 27.2  22.76 17.29 19.44 16.66 10.07 32.68 15.98 34.83 13.03\n",
            " 18.28 24.71 21.16 28.97 22.49  5.75 16.32 22.75 40.17 27.28 12.03 12.46\n",
            " 11.35 15.38 44.3  22.42 20.92 15.36 20.49 25.21 18.24 14.31 14.    7.25\n",
            " 38.07 23.95 25.71 17.31 29.93 10.65 12.43 24.08 11.69 13.42 14.26 15.95\n",
            " 12.48 29.8   8.52 14.52 11.38 22.82 19.08 20.27 11.17 12.26 18.26  8.51\n",
            " 14.15 16.   13.16 17.47 34.3  41.19 27.05 16.43  8.35 18.64 11.87  9.78\n",
            "  7.51 14.07 13.13 17.26 24.55 19.77 29.85 48.17 25.   13.39 16.49 21.5\n",
            " 12.66 16.21 17.51 24.52 20.76 31.71 10.59 10.63 50.81 15.81 31.85 16.82\n",
            " 32.9  17.89 14.48  9.6  34.63 34.65 23.33 45.35 23.17 40.55 20.9  30.46\n",
            " 18.15 23.1  15.69 19.81 28.44 15.48 16.58  7.56 43.11 13.   13.51 18.71\n",
            " 12.74 16.4  20.53 16.47 26.59 38.73 24.27 12.76 30.06 25.89 48.33 13.27\n",
            " 28.17 12.9  28.15 11.59  7.74 30.14 12.16  8.58 16.27 10.09 20.45 13.28\n",
            " 22.12 24.01 11.61 10.77 15.53 12.6  32.83 35.83 29.03 27.18 22.67 17.82\n",
            " 18.78]\n",
            "[ 1.01  1.66  3.5   3.31  3.61  4.71  2.    3.12  1.96  3.23  1.71  5.\n",
            "  1.57  3.    3.02  3.92  1.67  3.71  3.35  4.08  2.75  2.23  7.58  3.18\n",
            "  2.34  4.3   1.45  2.5   2.45  3.27  3.6   3.07  2.31  2.24  2.54  3.06\n",
            "  1.32  5.6   6.    2.05  2.6   5.2   1.56  4.34  3.51  1.5   1.76  6.73\n",
            "  3.21  1.98  3.76  2.64  3.15  2.47  1.    2.01  2.09  1.97  3.14  2.2\n",
            "  1.25  3.08  4.    2.71  3.4   1.83  2.03  5.17  5.85  3.25  4.73  3.48\n",
            "  1.64  4.06  4.29  2.55  5.07  1.8   2.92  1.68  2.52  4.2   1.48  2.18\n",
            "  2.83  6.7   2.3   1.36  1.63  1.73  2.74  5.14  3.75  2.61  4.5   1.61\n",
            " 10.    3.16  5.15  3.11  3.55  3.68  5.65  6.5   4.19  2.56  2.02  1.44\n",
            "  3.41  5.16  9.    1.1   3.09  1.92  1.58  2.72  2.88  3.39  1.47  1.17\n",
            "  4.67  5.92  1.75]\n",
            "['Female', 'Male']\n",
            "Categories (2, object): ['Male', 'Female']\n",
            "['No', 'Yes']\n",
            "Categories (2, object): ['Yes', 'No']\n",
            "['Sun', 'Sat', 'Thur', 'Fri']\n",
            "Categories (4, object): ['Thur', 'Fri', 'Sat', 'Sun']\n",
            "['Dinner', 'Lunch']\n",
            "Categories (2, object): ['Lunch', 'Dinner']\n",
            "[2 3 4 1 6 5]\n"
          ]
        }
      ]
    },
    {
      "cell_type": "markdown",
      "source": [
        "**Visualization**"
      ],
      "metadata": {
        "id": "k8NLZmQrP5bR"
      }
    },
    {
      "cell_type": "code",
      "source": [
        "df_assg.groupby(['time'])['tip'].mean().plot(kind='bar', title='Distribution of tips vs Time')\n",
        "df_assg.groupby(['time'])['tip'].mean()"
      ],
      "metadata": {
        "colab": {
          "base_uri": "https://localhost:8080/",
          "height": 0
        },
        "id": "r79fmdw5P8Wr",
        "outputId": "406daaf5-aa77-4322-efaa-d25cb94ef4ec"
      },
      "execution_count": 218,
      "outputs": [
        {
          "output_type": "execute_result",
          "data": {
            "text/plain": [
              "time\n",
              "Lunch     2.728088\n",
              "Dinner    3.102670\n",
              "Name: tip, dtype: float64"
            ]
          },
          "metadata": {},
          "execution_count": 218
        },
        {
          "output_type": "display_data",
          "data": {
            "text/plain": [
              "<Figure size 432x288 with 1 Axes>"
            ],
            "image/png": "[encoded data removed]"
          },
          "metadata": {
            "needs_background": "light"
          }
        }
      ]
    },
    {
      "cell_type": "code",
      "source": [
        "df_assg.groupby(['day'])['tip'].mean().plot(kind='bar', title='Distribution of tips vs day')\n",
        "df_assg.groupby(['day'])['tip'].mean()"
      ],
      "metadata": {
        "colab": {
          "base_uri": "https://localhost:8080/",
          "height": 0
        },
        "id": "H96NvZuVP8uz",
        "outputId": "984ce19c-b37b-4e44-e4e3-b20616b8bd30"
      },
      "execution_count": 219,
      "outputs": [
        {
          "output_type": "execute_result",
          "data": {
            "text/plain": [
              "day\n",
              "Thur    2.771452\n",
              "Fri     2.734737\n",
              "Sat     2.993103\n",
              "Sun     3.255132\n",
              "Name: tip, dtype: float64"
            ]
          },
          "metadata": {},
          "execution_count": 219
        },
        {
          "output_type": "display_data",
          "data": {
            "text/plain": [
              "<Figure size 432x288 with 1 Axes>"
            ],
            "image/png": "[encoded data removed]"
          },
          "metadata": {
            "needs_background": "light"
          }
        }
      ]
    },
    {
      "cell_type": "code",
      "source": [
        "df_assg.groupby(['smoker'])['tip'].mean().plot(kind='bar', title='Distribution of tips vs smoker')\n",
        "df_assg.groupby(['smoker'])['tip'].mean()"
      ],
      "metadata": {
        "colab": {
          "base_uri": "https://localhost:8080/",
          "height": 0
        },
        "id": "5UeBewNUP8oJ",
        "outputId": "ef1e8836-7428-4d5b-f9f2-837d72b3adc9"
      },
      "execution_count": 220,
      "outputs": [
        {
          "output_type": "execute_result",
          "data": {
            "text/plain": [
              "smoker\n",
              "Yes    3.008710\n",
              "No     2.991854\n",
              "Name: tip, dtype: float64"
            ]
          },
          "metadata": {},
          "execution_count": 220
        },
        {
          "output_type": "display_data",
          "data": {
            "text/plain": [
              "<Figure size 432x288 with 1 Axes>"
            ],
            "image/png": "[encoded data removed]"
          },
          "metadata": {
            "needs_background": "light"
          }
        }
      ]
    },
    {
      "cell_type": "code",
      "source": [
        "df_assg.groupby(['sex'])['tip'].mean().plot(kind='bar', title='Distribution of tips vs sex')\n",
        "df_assg.groupby(['sex'])['tip'].mean()"
      ],
      "metadata": {
        "colab": {
          "base_uri": "https://localhost:8080/",
          "height": 0
        },
        "id": "zBeZlFYMP8h6",
        "outputId": "3c9aacd4-c6b7-44ba-d05e-36885fe06226"
      },
      "execution_count": 221,
      "outputs": [
        {
          "output_type": "execute_result",
          "data": {
            "text/plain": [
              "sex\n",
              "Male      3.089618\n",
              "Female    2.833448\n",
              "Name: tip, dtype: float64"
            ]
          },
          "metadata": {},
          "execution_count": 221
        },
        {
          "output_type": "display_data",
          "data": {
            "text/plain": [
              "<Figure size 432x288 with 1 Axes>"
            ],
            "image/png": "[encoded data removed]"
          },
          "metadata": {
            "needs_background": "light"
          }
        }
      ]
    },
    {
      "cell_type": "markdown",
      "source": [
        "# **Feature Engineering**"
      ],
      "metadata": {
        "id": "zFsuJgYSlIhp"
      }
    },
    {
      "cell_type": "markdown",
      "source": [
        "**One Hot Encoder**"
      ],
      "metadata": {
        "id": "Ir-LlwiOl2yO"
      }
    },
    {
      "cell_type": "code",
      "source": [
        "# Create our One Hot Encoder object\n",
        "one_hot = OneHotEncoder()\n",
        "\n",
        "col_names = [\"sex\", \"smoker\",\"day\",\"time\"]\n",
        "\n",
        "# One Hot encode the column data sets\n",
        "one_hot_tip = one_hot.fit_transform(df_assg[col_names]).toarray()\n"
      ],
      "metadata": {
        "id": "DeDIZ4oOlMIA"
      },
      "execution_count": 222,
      "outputs": []
    },
    {
      "cell_type": "code",
      "source": [
        "# Look at the categories\n",
        "one_hot.categories_"
      ],
      "metadata": {
        "colab": {
          "base_uri": "https://localhost:8080/"
        },
        "id": "xrVwZPUblMEg",
        "outputId": "9bb46eb7-7407-4bac-9f70-4fb282c22445"
      },
      "execution_count": 223,
      "outputs": [
        {
          "output_type": "execute_result",
          "data": {
            "text/plain": [
              "[array(['Female', 'Male'], dtype=object),\n",
              " array(['No', 'Yes'], dtype=object),\n",
              " array(['Fri', 'Sat', 'Sun', 'Thur'], dtype=object),\n",
              " array(['Dinner', 'Lunch'], dtype=object)]"
            ]
          },
          "metadata": {},
          "execution_count": 223
        }
      ]
    },
    {
      "cell_type": "code",
      "source": [
        "one_hot_tip"
      ],
      "metadata": {
        "colab": {
          "base_uri": "https://localhost:8080/"
        },
        "id": "iu1z5DvRlMCA",
        "outputId": "2397d494-b837-4089-e28c-f9ec88301ab8"
      },
      "execution_count": 224,
      "outputs": [
        {
          "output_type": "execute_result",
          "data": {
            "text/plain": [
              "array([[1., 0., 1., ..., 0., 1., 0.],\n",
              "       [0., 1., 1., ..., 0., 1., 0.],\n",
              "       [0., 1., 1., ..., 0., 1., 0.],\n",
              "       ...,\n",
              "       [0., 1., 0., ..., 0., 1., 0.],\n",
              "       [0., 1., 1., ..., 0., 1., 0.],\n",
              "       [1., 0., 1., ..., 1., 1., 0.]])"
            ]
          },
          "metadata": {},
          "execution_count": 224
        }
      ]
    },
    {
      "cell_type": "code",
      "source": [
        "one_hot.categories_[0]"
      ],
      "metadata": {
        "colab": {
          "base_uri": "https://localhost:8080/"
        },
        "id": "kQgTZ84wlL_e",
        "outputId": "f1b9817c-6b6b-446f-b99a-f70b4a2758d9"
      },
      "execution_count": 225,
      "outputs": [
        {
          "output_type": "execute_result",
          "data": {
            "text/plain": [
              "array(['Female', 'Male'], dtype=object)"
            ]
          },
          "metadata": {},
          "execution_count": 225
        }
      ]
    },
    {
      "cell_type": "code",
      "source": [
        "one_hot.categories_[1]"
      ],
      "metadata": {
        "colab": {
          "base_uri": "https://localhost:8080/"
        },
        "id": "NVmUS1sRnu64",
        "outputId": "289a9472-3d04-4521-9648-724d26bae190"
      },
      "execution_count": 226,
      "outputs": [
        {
          "output_type": "execute_result",
          "data": {
            "text/plain": [
              "array(['No', 'Yes'], dtype=object)"
            ]
          },
          "metadata": {},
          "execution_count": 226
        }
      ]
    },
    {
      "cell_type": "code",
      "source": [
        "one_hot.categories_[2]"
      ],
      "metadata": {
        "colab": {
          "base_uri": "https://localhost:8080/"
        },
        "id": "77rZJscUnu3g",
        "outputId": "8d4e86fc-d899-47ac-adc2-901e07c8cecb"
      },
      "execution_count": 227,
      "outputs": [
        {
          "output_type": "execute_result",
          "data": {
            "text/plain": [
              "array(['Fri', 'Sat', 'Sun', 'Thur'], dtype=object)"
            ]
          },
          "metadata": {},
          "execution_count": 227
        }
      ]
    },
    {
      "cell_type": "code",
      "source": [
        "one_hot.categories_[3]"
      ],
      "metadata": {
        "colab": {
          "base_uri": "https://localhost:8080/"
        },
        "id": "Re9XmawJnuzl",
        "outputId": "9ae167ad-63f6-4a75-d16e-2c0d359057a9"
      },
      "execution_count": 228,
      "outputs": [
        {
          "output_type": "execute_result",
          "data": {
            "text/plain": [
              "array(['Dinner', 'Lunch'], dtype=object)"
            ]
          },
          "metadata": {},
          "execution_count": 228
        }
      ]
    },
    {
      "cell_type": "code",
      "source": [
        "col_names"
      ],
      "metadata": {
        "colab": {
          "base_uri": "https://localhost:8080/"
        },
        "id": "eEdsAvYonuxK",
        "outputId": "54ed4e2c-1b51-40be-a910-0c4c2de011df"
      },
      "execution_count": 229,
      "outputs": [
        {
          "output_type": "execute_result",
          "data": {
            "text/plain": [
              "['sex', 'smoker', 'day', 'time']"
            ]
          },
          "metadata": {},
          "execution_count": 229
        }
      ]
    },
    {
      "cell_type": "code",
      "source": [
        "# Create column names list for one hot encoded features\n",
        "column_names = []\n",
        "\n",
        "for y in range(len(one_hot.categories_)):\n",
        "    for z in range(len(one_hot.categories_[y])):\n",
        "        # print(one_hot.categories_[y][z])\n",
        "        column_names.append(col_names[y]+\"_\"+one_hot.categories_[y][z])\n",
        "\n",
        "\n",
        "column_names"
      ],
      "metadata": {
        "colab": {
          "base_uri": "https://localhost:8080/"
        },
        "id": "oMQi_YUBnuut",
        "outputId": "beedd223-c6a0-4fd3-ef14-f3fde0a45d59"
      },
      "execution_count": 230,
      "outputs": [
        {
          "output_type": "execute_result",
          "data": {
            "text/plain": [
              "['sex_Female',\n",
              " 'sex_Male',\n",
              " 'smoker_No',\n",
              " 'smoker_Yes',\n",
              " 'day_Fri',\n",
              " 'day_Sat',\n",
              " 'day_Sun',\n",
              " 'day_Thur',\n",
              " 'time_Dinner',\n",
              " 'time_Lunch']"
            ]
          },
          "metadata": {},
          "execution_count": 230
        }
      ]
    },
    {
      "cell_type": "code",
      "source": [
        "def col_names(one_hot_model):\n",
        "    \n",
        "    \"Create columns names list for one hot encoded feature\"\n",
        "    \n",
        "    column_names = []\n",
        "    \n",
        "    col_names = [\"sex\", \"smoker\",\"day\",\"time\"]\n",
        "\n",
        "    for y in range(len(one_hot_model.categories_)):\n",
        "        for z in range(len(one_hot_model.categories_[y])):\n",
        "            # print(one_hot.categories_[y][z])\n",
        "            column_names.append(col_names[y]+\"_\"+one_hot_model.categories_[y][z])\n",
        "            \n",
        "    return column_names\n",
        "\n",
        "column_names = col_names(one_hot)"
      ],
      "metadata": {
        "id": "HJMma6ctnusH"
      },
      "execution_count": 231,
      "outputs": []
    },
    {
      "cell_type": "code",
      "source": [
        "one_hot_tip.shape"
      ],
      "metadata": {
        "colab": {
          "base_uri": "https://localhost:8080/"
        },
        "id": "Zafx1rENnupp",
        "outputId": "e85d4d42-65f9-4ad1-a7af-118678293765"
      },
      "execution_count": 232,
      "outputs": [
        {
          "output_type": "execute_result",
          "data": {
            "text/plain": [
              "(244, 10)"
            ]
          },
          "metadata": {},
          "execution_count": 232
        }
      ]
    },
    {
      "cell_type": "code",
      "source": [
        "one_hot_tip"
      ],
      "metadata": {
        "colab": {
          "base_uri": "https://localhost:8080/"
        },
        "id": "whpvaXmpnunJ",
        "outputId": "c95f064a-9057-45f7-8c46-e0c5e969c50f"
      },
      "execution_count": 233,
      "outputs": [
        {
          "output_type": "execute_result",
          "data": {
            "text/plain": [
              "array([[1., 0., 1., ..., 0., 1., 0.],\n",
              "       [0., 1., 1., ..., 0., 1., 0.],\n",
              "       [0., 1., 1., ..., 0., 1., 0.],\n",
              "       ...,\n",
              "       [0., 1., 0., ..., 0., 1., 0.],\n",
              "       [0., 1., 1., ..., 0., 1., 0.],\n",
              "       [1., 0., 1., ..., 1., 1., 0.]])"
            ]
          },
          "metadata": {},
          "execution_count": 233
        }
      ]
    },
    {
      "cell_type": "code",
      "source": [
        "# Cast One Hot Encoded values into a dataframe\n",
        "\n",
        "oh_df_tips = pd.DataFrame(\n",
        "    one_hot_tip,\n",
        "    index=df_assg.index,\n",
        "    columns = column_names\n",
        ")\n",
        "\n",
        "print(oh_df_tips.shape)"
      ],
      "metadata": {
        "colab": {
          "base_uri": "https://localhost:8080/"
        },
        "id": "FlM9vsT5oUqH",
        "outputId": "496c8aef-24b6-40f3-9360-89eb4386e6e9"
      },
      "execution_count": 234,
      "outputs": [
        {
          "output_type": "stream",
          "name": "stdout",
          "text": [
            "(244, 10)\n"
          ]
        }
      ]
    },
    {
      "cell_type": "code",
      "source": [
        "oh_df_tips.head()"
      ],
      "metadata": {
        "colab": {
          "base_uri": "https://localhost:8080/",
          "height": 206
        },
        "id": "ChPVpJI6oUnt",
        "outputId": "143768ba-f303-425d-c224-4edc17503787"
      },
      "execution_count": 235,
      "outputs": [
        {
          "output_type": "execute_result",
          "data": {
            "text/plain": [
              "   sex_Female  sex_Male  smoker_No  smoker_Yes  day_Fri  day_Sat  day_Sun  \\\n",
              "0         1.0       0.0        1.0         0.0      0.0      0.0      1.0   \n",
              "1         0.0       1.0        1.0         0.0      0.0      0.0      1.0   \n",
              "2         0.0       1.0        1.0         0.0      0.0      0.0      1.0   \n",
              "3         0.0       1.0        1.0         0.0      0.0      0.0      1.0   \n",
              "4         1.0       0.0        1.0         0.0      0.0      0.0      1.0   \n",
              "\n",
              "   day_Thur  time_Dinner  time_Lunch  \n",
              "0       0.0          1.0         0.0  \n",
              "1       0.0          1.0         0.0  \n",
              "2       0.0          1.0         0.0  \n",
              "3       0.0          1.0         0.0  \n",
              "4       0.0          1.0         0.0  "
            ],
            "text/html": [
              "\n",
              "  <div id=\"df-d9881dbb-c559-4e9a-b3e1-90b4cfe0f240\">\n",
              "    <div class=\"colab-df-container\">\n",
              "      <div>\n",
              "<style scoped>\n",
              "    .dataframe tbody tr th:only-of-type {\n",
              "        vertical-align: middle;\n",
              "    }\n",
              "\n",
              "    .dataframe tbody tr th {\n",
              "        vertical-align: top;\n",
              "    }\n",
              "\n",
              "    .dataframe thead th {\n",
              "        text-align: right;\n",
              "    }\n",
              "</style>\n",
              "<table border=\"1\" class=\"dataframe\">\n",
              "  <thead>\n",
              "    <tr style=\"text-align: right;\">\n",
              "      <th></th>\n",
              "      <th>sex_Female</th>\n",
              "      <th>sex_Male</th>\n",
              "      <th>smoker_No</th>\n",
              "      <th>smoker_Yes</th>\n",
              "      <th>day_Fri</th>\n",
              "      <th>day_Sat</th>\n",
              "      <th>day_Sun</th>\n",
              "      <th>day_Thur</th>\n",
              "      <th>time_Dinner</th>\n",
              "      <th>time_Lunch</th>\n",
              "    </tr>\n",
              "  </thead>\n",
              "  <tbody>\n",
              "    <tr>\n",
              "      <th>0</th>\n",
              "      <td>1.0</td>\n",
              "      <td>0.0</td>\n",
              "      <td>1.0</td>\n",
              "      <td>0.0</td>\n",
              "      <td>0.0</td>\n",
              "      <td>0.0</td>\n",
              "      <td>1.0</td>\n",
              "      <td>0.0</td>\n",
              "      <td>1.0</td>\n",
              "      <td>0.0</td>\n",
              "    </tr>\n",
              "    <tr>\n",
              "      <th>1</th>\n",
              "      <td>0.0</td>\n",
              "      <td>1.0</td>\n",
              "      <td>1.0</td>\n",
              "      <td>0.0</td>\n",
              "      <td>0.0</td>\n",
              "      <td>0.0</td>\n",
              "      <td>1.0</td>\n",
              "      <td>0.0</td>\n",
              "      <td>1.0</td>\n",
              "      <td>0.0</td>\n",
              "    </tr>\n",
              "    <tr>\n",
              "      <th>2</th>\n",
              "      <td>0.0</td>\n",
              "      <td>1.0</td>\n",
              "      <td>1.0</td>\n",
              "      <td>0.0</td>\n",
              "      <td>0.0</td>\n",
              "      <td>0.0</td>\n",
              "      <td>1.0</td>\n",
              "      <td>0.0</td>\n",
              "      <td>1.0</td>\n",
              "      <td>0.0</td>\n",
              "    </tr>\n",
              "    <tr>\n",
              "      <th>3</th>\n",
              "      <td>0.0</td>\n",
              "      <td>1.0</td>\n",
              "      <td>1.0</td>\n",
              "      <td>0.0</td>\n",
              "      <td>0.0</td>\n",
              "      <td>0.0</td>\n",
              "      <td>1.0</td>\n",
              "      <td>0.0</td>\n",
              "      <td>1.0</td>\n",
              "      <td>0.0</td>\n",
              "    </tr>\n",
              "    <tr>\n",
              "      <th>4</th>\n",
              "      <td>1.0</td>\n",
              "      <td>0.0</td>\n",
              "      <td>1.0</td>\n",
              "      <td>0.0</td>\n",
              "      <td>0.0</td>\n",
              "      <td>0.0</td>\n",
              "      <td>1.0</td>\n",
              "      <td>0.0</td>\n",
              "      <td>1.0</td>\n",
              "      <td>0.0</td>\n",
              "    </tr>\n",
              "  </tbody>\n",
              "</table>\n",
              "</div>\n",
              "      <button class=\"colab-df-convert\" onclick=\"convertToInteractive('df-d9881dbb-c559-4e9a-b3e1-90b4cfe0f240')\"\n",
              "              title=\"Convert this dataframe to an interactive table.\"\n",
              "              style=\"display:none;\">\n",
              "        \n",
              "  <svg xmlns=\"http://www.w3.org/2000/svg\" height=\"24px\"viewBox=\"0 0 24 24\"\n",
              "       width=\"24px\">\n",
              "    <path d=\"M0 0h24v24H0V0z\" fill=\"none\"/>\n",
              "    <path d=\"M18.56 5.44l.94 2.06.94-2.06 2.06-.94-2.06-.94-.94-2.06-.94 2.06-2.06.94zm-11 1L8.5 8.5l.94-2.06 2.06-.94-2.06-.94L8.5 2.5l-.94 2.06-2.06.94zm10 10l.94 2.06.94-2.06 2.06-.94-2.06-.94-.94-2.06-.94 2.06-2.06.94z\"/><path d=\"M17.41 7.96l-1.37-1.37c-.4-.4-.92-.59-1.43-.59-.52 0-1.04.2-1.43.59L10.3 9.45l-7.72 7.72c-.78.78-.78 2.05 0 2.83L4 21.41c.39.39.9.59 1.41.59.51 0 1.02-.2 1.41-.59l7.78-7.78 2.81-2.81c.8-.78.8-2.07 0-2.86zM5.41 20L4 18.59l7.72-7.72 1.47 1.35L5.41 20z\"/>\n",
              "  </svg>\n",
              "      </button>\n",
              "      \n",
              "  <style>\n",
              "    .colab-df-container {\n",
              "      display:flex;\n",
              "      flex-wrap:wrap;\n",
              "      gap: 12px;\n",
              "    }\n",
              "\n",
              "    .colab-df-convert {\n",
              "      background-color: #E8F0FE;\n",
              "      border: none;\n",
              "      border-radius: 50%;\n",
              "      cursor: pointer;\n",
              "      display: none;\n",
              "      fill: #1967D2;\n",
              "      height: 32px;\n",
              "      padding: 0 0 0 0;\n",
              "      width: 32px;\n",
              "    }\n",
              "\n",
              "    .colab-df-convert:hover {\n",
              "      background-color: #E2EBFA;\n",
              "      box-shadow: 0px 1px 2px rgba(60, 64, 67, 0.3), 0px 1px 3px 1px rgba(60, 64, 67, 0.15);\n",
              "      fill: #174EA6;\n",
              "    }\n",
              "\n",
              "    [theme=dark] .colab-df-convert {\n",
              "      background-color: #3B4455;\n",
              "      fill: #D2E3FC;\n",
              "    }\n",
              "\n",
              "    [theme=dark] .colab-df-convert:hover {\n",
              "      background-color: #434B5C;\n",
              "      box-shadow: 0px 1px 3px 1px rgba(0, 0, 0, 0.15);\n",
              "      filter: drop-shadow(0px 1px 2px rgba(0, 0, 0, 0.3));\n",
              "      fill: #FFFFFF;\n",
              "    }\n",
              "  </style>\n",
              "\n",
              "      <script>\n",
              "        const buttonEl =\n",
              "          document.querySelector('#df-d9881dbb-c559-4e9a-b3e1-90b4cfe0f240 button.colab-df-convert');\n",
              "        buttonEl.style.display =\n",
              "          google.colab.kernel.accessAllowed ? 'block' : 'none';\n",
              "\n",
              "        async function convertToInteractive(key) {\n",
              "          const element = document.querySelector('#df-d9881dbb-c559-4e9a-b3e1-90b4cfe0f240');\n",
              "          const dataTable =\n",
              "            await google.colab.kernel.invokeFunction('convertToInteractive',\n",
              "                                                     [key], {});\n",
              "          if (!dataTable) return;\n",
              "\n",
              "          const docLinkHtml = 'Like what you see? Visit the ' +\n",
              "            '<a target=\"_blank\" href=https://colab.research.google.com/notebooks/data_table.ipynb>data table notebook</a>'\n",
              "            + ' to learn more about interactive tables.';\n",
              "          element.innerHTML = '';\n",
              "          dataTable['output_type'] = 'display_data';\n",
              "          await google.colab.output.renderOutput(dataTable, element);\n",
              "          const docLink = document.createElement('div');\n",
              "          docLink.innerHTML = docLinkHtml;\n",
              "          element.appendChild(docLink);\n",
              "        }\n",
              "      </script>\n",
              "    </div>\n",
              "  </div>\n",
              "  "
            ]
          },
          "metadata": {},
          "execution_count": 235
        }
      ]
    },
    {
      "cell_type": "code",
      "source": [
        "merged = pd.concat([df_assg,oh_df_tips],axis='columns')\n",
        "print(merged.shape)"
      ],
      "metadata": {
        "colab": {
          "base_uri": "https://localhost:8080/"
        },
        "id": "p73i1N2m0DDK",
        "outputId": "6f1c4d65-41c7-4d8f-812c-dd73f8088dae"
      },
      "execution_count": 236,
      "outputs": [
        {
          "output_type": "stream",
          "name": "stdout",
          "text": [
            "(244, 17)\n"
          ]
        }
      ]
    },
    {
      "cell_type": "code",
      "source": [
        "merged.head()"
      ],
      "metadata": {
        "colab": {
          "base_uri": "https://localhost:8080/",
          "height": 250
        },
        "id": "sJTSPaoqvT_c",
        "outputId": "18fb40e2-efb0-4bc7-a297-9892514f705f"
      },
      "execution_count": 237,
      "outputs": [
        {
          "output_type": "execute_result",
          "data": {
            "text/plain": [
              "   total_bill   tip     sex smoker  day    time  size  sex_Female  sex_Male  \\\n",
              "0       16.99  1.01  Female     No  Sun  Dinner     2         1.0       0.0   \n",
              "1       10.34  1.66    Male     No  Sun  Dinner     3         0.0       1.0   \n",
              "2       21.01  3.50    Male     No  Sun  Dinner     3         0.0       1.0   \n",
              "3       23.68  3.31    Male     No  Sun  Dinner     2         0.0       1.0   \n",
              "4       24.59  3.61  Female     No  Sun  Dinner     4         1.0       0.0   \n",
              "\n",
              "   smoker_No  smoker_Yes  day_Fri  day_Sat  day_Sun  day_Thur  time_Dinner  \\\n",
              "0        1.0         0.0      0.0      0.0      1.0       0.0          1.0   \n",
              "1        1.0         0.0      0.0      0.0      1.0       0.0          1.0   \n",
              "2        1.0         0.0      0.0      0.0      1.0       0.0          1.0   \n",
              "3        1.0         0.0      0.0      0.0      1.0       0.0          1.0   \n",
              "4        1.0         0.0      0.0      0.0      1.0       0.0          1.0   \n",
              "\n",
              "   time_Lunch  \n",
              "0         0.0  \n",
              "1         0.0  \n",
              "2         0.0  \n",
              "3         0.0  \n",
              "4         0.0  "
            ],
            "text/html": [
              "\n",
              "  <div id=\"df-a7e33a09-9aaf-4556-8861-a5319af96ef8\">\n",
              "    <div class=\"colab-df-container\">\n",
              "      <div>\n",
              "<style scoped>\n",
              "    .dataframe tbody tr th:only-of-type {\n",
              "        vertical-align: middle;\n",
              "    }\n",
              "\n",
              "    .dataframe tbody tr th {\n",
              "        vertical-align: top;\n",
              "    }\n",
              "\n",
              "    .dataframe thead th {\n",
              "        text-align: right;\n",
              "    }\n",
              "</style>\n",
              "<table border=\"1\" class=\"dataframe\">\n",
              "  <thead>\n",
              "    <tr style=\"text-align: right;\">\n",
              "      <th></th>\n",
              "      <th>total_bill</th>\n",
              "      <th>tip</th>\n",
              "      <th>sex</th>\n",
              "      <th>smoker</th>\n",
              "      <th>day</th>\n",
              "      <th>time</th>\n",
              "      <th>size</th>\n",
              "      <th>sex_Female</th>\n",
              "      <th>sex_Male</th>\n",
              "      <th>smoker_No</th>\n",
              "      <th>smoker_Yes</th>\n",
              "      <th>day_Fri</th>\n",
              "      <th>day_Sat</th>\n",
              "      <th>day_Sun</th>\n",
              "      <th>day_Thur</th>\n",
              "      <th>time_Dinner</th>\n",
              "      <th>time_Lunch</th>\n",
              "    </tr>\n",
              "  </thead>\n",
              "  <tbody>\n",
              "    <tr>\n",
              "      <th>0</th>\n",
              "      <td>16.99</td>\n",
              "      <td>1.01</td>\n",
              "      <td>Female</td>\n",
              "      <td>No</td>\n",
              "      <td>Sun</td>\n",
              "      <td>Dinner</td>\n",
              "      <td>2</td>\n",
              "      <td>1.0</td>\n",
              "      <td>0.0</td>\n",
              "      <td>1.0</td>\n",
              "      <td>0.0</td>\n",
              "      <td>0.0</td>\n",
              "      <td>0.0</td>\n",
              "      <td>1.0</td>\n",
              "      <td>0.0</td>\n",
              "      <td>1.0</td>\n",
              "      <td>0.0</td>\n",
              "    </tr>\n",
              "    <tr>\n",
              "      <th>1</th>\n",
              "      <td>10.34</td>\n",
              "      <td>1.66</td>\n",
              "      <td>Male</td>\n",
              "      <td>No</td>\n",
              "      <td>Sun</td>\n",
              "      <td>Dinner</td>\n",
              "      <td>3</td>\n",
              "      <td>0.0</td>\n",
              "      <td>1.0</td>\n",
              "      <td>1.0</td>\n",
              "      <td>0.0</td>\n",
              "      <td>0.0</td>\n",
              "      <td>0.0</td>\n",
              "      <td>1.0</td>\n",
              "      <td>0.0</td>\n",
              "      <td>1.0</td>\n",
              "      <td>0.0</td>\n",
              "    </tr>\n",
              "    <tr>\n",
              "      <th>2</th>\n",
              "      <td>21.01</td>\n",
              "      <td>3.50</td>\n",
              "      <td>Male</td>\n",
              "      <td>No</td>\n",
              "      <td>Sun</td>\n",
              "      <td>Dinner</td>\n",
              "      <td>3</td>\n",
              "      <td>0.0</td>\n",
              "      <td>1.0</td>\n",
              "      <td>1.0</td>\n",
              "      <td>0.0</td>\n",
              "      <td>0.0</td>\n",
              "      <td>0.0</td>\n",
              "      <td>1.0</td>\n",
              "      <td>0.0</td>\n",
              "      <td>1.0</td>\n",
              "      <td>0.0</td>\n",
              "    </tr>\n",
              "    <tr>\n",
              "      <th>3</th>\n",
              "      <td>23.68</td>\n",
              "      <td>3.31</td>\n",
              "      <td>Male</td>\n",
              "      <td>No</td>\n",
              "      <td>Sun</td>\n",
              "      <td>Dinner</td>\n",
              "      <td>2</td>\n",
              "      <td>0.0</td>\n",
              "      <td>1.0</td>\n",
              "      <td>1.0</td>\n",
              "      <td>0.0</td>\n",
              "      <td>0.0</td>\n",
              "      <td>0.0</td>\n",
              "      <td>1.0</td>\n",
              "      <td>0.0</td>\n",
              "      <td>1.0</td>\n",
              "      <td>0.0</td>\n",
              "    </tr>\n",
              "    <tr>\n",
              "      <th>4</th>\n",
              "      <td>24.59</td>\n",
              "      <td>3.61</td>\n",
              "      <td>Female</td>\n",
              "      <td>No</td>\n",
              "      <td>Sun</td>\n",
              "      <td>Dinner</td>\n",
              "      <td>4</td>\n",
              "      <td>1.0</td>\n",
              "      <td>0.0</td>\n",
              "      <td>1.0</td>\n",
              "      <td>0.0</td>\n",
              "      <td>0.0</td>\n",
              "      <td>0.0</td>\n",
              "      <td>1.0</td>\n",
              "      <td>0.0</td>\n",
              "      <td>1.0</td>\n",
              "      <td>0.0</td>\n",
              "    </tr>\n",
              "  </tbody>\n",
              "</table>\n",
              "</div>\n",
              "      <button class=\"colab-df-convert\" onclick=\"convertToInteractive('df-a7e33a09-9aaf-4556-8861-a5319af96ef8')\"\n",
              "              title=\"Convert this dataframe to an interactive table.\"\n",
              "              style=\"display:none;\">\n",
              "        \n",
              "  <svg xmlns=\"http://www.w3.org/2000/svg\" height=\"24px\"viewBox=\"0 0 24 24\"\n",
              "       width=\"24px\">\n",
              "    <path d=\"M0 0h24v24H0V0z\" fill=\"none\"/>\n",
              "    <path d=\"M18.56 5.44l.94 2.06.94-2.06 2.06-.94-2.06-.94-.94-2.06-.94 2.06-2.06.94zm-11 1L8.5 8.5l.94-2.06 2.06-.94-2.06-.94L8.5 2.5l-.94 2.06-2.06.94zm10 10l.94 2.06.94-2.06 2.06-.94-2.06-.94-.94-2.06-.94 2.06-2.06.94z\"/><path d=\"M17.41 7.96l-1.37-1.37c-.4-.4-.92-.59-1.43-.59-.52 0-1.04.2-1.43.59L10.3 9.45l-7.72 7.72c-.78.78-.78 2.05 0 2.83L4 21.41c.39.39.9.59 1.41.59.51 0 1.02-.2 1.41-.59l7.78-7.78 2.81-2.81c.8-.78.8-2.07 0-2.86zM5.41 20L4 18.59l7.72-7.72 1.47 1.35L5.41 20z\"/>\n",
              "  </svg>\n",
              "      </button>\n",
              "      \n",
              "  <style>\n",
              "    .colab-df-container {\n",
              "      display:flex;\n",
              "      flex-wrap:wrap;\n",
              "      gap: 12px;\n",
              "    }\n",
              "\n",
              "    .colab-df-convert {\n",
              "      background-color: #E8F0FE;\n",
              "      border: none;\n",
              "      border-radius: 50%;\n",
              "      cursor: pointer;\n",
              "      display: none;\n",
              "      fill: #1967D2;\n",
              "      height: 32px;\n",
              "      padding: 0 0 0 0;\n",
              "      width: 32px;\n",
              "    }\n",
              "\n",
              "    .colab-df-convert:hover {\n",
              "      background-color: #E2EBFA;\n",
              "      box-shadow: 0px 1px 2px rgba(60, 64, 67, 0.3), 0px 1px 3px 1px rgba(60, 64, 67, 0.15);\n",
              "      fill: #174EA6;\n",
              "    }\n",
              "\n",
              "    [theme=dark] .colab-df-convert {\n",
              "      background-color: #3B4455;\n",
              "      fill: #D2E3FC;\n",
              "    }\n",
              "\n",
              "    [theme=dark] .colab-df-convert:hover {\n",
              "      background-color: #434B5C;\n",
              "      box-shadow: 0px 1px 3px 1px rgba(0, 0, 0, 0.15);\n",
              "      filter: drop-shadow(0px 1px 2px rgba(0, 0, 0, 0.3));\n",
              "      fill: #FFFFFF;\n",
              "    }\n",
              "  </style>\n",
              "\n",
              "      <script>\n",
              "        const buttonEl =\n",
              "          document.querySelector('#df-a7e33a09-9aaf-4556-8861-a5319af96ef8 button.colab-df-convert');\n",
              "        buttonEl.style.display =\n",
              "          google.colab.kernel.accessAllowed ? 'block' : 'none';\n",
              "\n",
              "        async function convertToInteractive(key) {\n",
              "          const element = document.querySelector('#df-a7e33a09-9aaf-4556-8861-a5319af96ef8');\n",
              "          const dataTable =\n",
              "            await google.colab.kernel.invokeFunction('convertToInteractive',\n",
              "                                                     [key], {});\n",
              "          if (!dataTable) return;\n",
              "\n",
              "          const docLinkHtml = 'Like what you see? Visit the ' +\n",
              "            '<a target=\"_blank\" href=https://colab.research.google.com/notebooks/data_table.ipynb>data table notebook</a>'\n",
              "            + ' to learn more about interactive tables.';\n",
              "          element.innerHTML = '';\n",
              "          dataTable['output_type'] = 'display_data';\n",
              "          await google.colab.output.renderOutput(dataTable, element);\n",
              "          const docLink = document.createElement('div');\n",
              "          docLink.innerHTML = docLinkHtml;\n",
              "          element.appendChild(docLink);\n",
              "        }\n",
              "      </script>\n",
              "    </div>\n",
              "  </div>\n",
              "  "
            ]
          },
          "metadata": {},
          "execution_count": 237
        }
      ]
    },
    {
      "cell_type": "code",
      "source": [
        "Tipper_new = merged.drop([\"sex\", \"smoker\",\"day\",\"time\"], axis='columns')\n",
        "Tipper_new"
      ],
      "metadata": {
        "colab": {
          "base_uri": "https://localhost:8080/",
          "height": 424
        },
        "id": "ICLxGTYOoUic",
        "outputId": "c1508e88-8eab-40c2-a9fb-6318370ea0af"
      },
      "execution_count": 238,
      "outputs": [
        {
          "output_type": "execute_result",
          "data": {
            "text/plain": [
              "     total_bill   tip  size  sex_Female  sex_Male  smoker_No  smoker_Yes  \\\n",
              "0         16.99  1.01     2         1.0       0.0        1.0         0.0   \n",
              "1         10.34  1.66     3         0.0       1.0        1.0         0.0   \n",
              "2         21.01  3.50     3         0.0       1.0        1.0         0.0   \n",
              "3         23.68  3.31     2         0.0       1.0        1.0         0.0   \n",
              "4         24.59  3.61     4         1.0       0.0        1.0         0.0   \n",
              "..          ...   ...   ...         ...       ...        ...         ...   \n",
              "239       29.03  5.92     3         0.0       1.0        1.0         0.0   \n",
              "240       27.18  2.00     2         1.0       0.0        0.0         1.0   \n",
              "241       22.67  2.00     2         0.0       1.0        0.0         1.0   \n",
              "242       17.82  1.75     2         0.0       1.0        1.0         0.0   \n",
              "243       18.78  3.00     2         1.0       0.0        1.0         0.0   \n",
              "\n",
              "     day_Fri  day_Sat  day_Sun  day_Thur  time_Dinner  time_Lunch  \n",
              "0        0.0      0.0      1.0       0.0          1.0         0.0  \n",
              "1        0.0      0.0      1.0       0.0          1.0         0.0  \n",
              "2        0.0      0.0      1.0       0.0          1.0         0.0  \n",
              "3        0.0      0.0      1.0       0.0          1.0         0.0  \n",
              "4        0.0      0.0      1.0       0.0          1.0         0.0  \n",
              "..       ...      ...      ...       ...          ...         ...  \n",
              "239      0.0      1.0      0.0       0.0          1.0         0.0  \n",
              "240      0.0      1.0      0.0       0.0          1.0         0.0  \n",
              "241      0.0      1.0      0.0       0.0          1.0         0.0  \n",
              "242      0.0      1.0      0.0       0.0          1.0         0.0  \n",
              "243      0.0      0.0      0.0       1.0          1.0         0.0  \n",
              "\n",
              "[244 rows x 13 columns]"
            ],
            "text/html": [
              "\n",
              "  <div id=\"df-82b6c86e-aa36-40cd-b090-c43f07ae3203\">\n",
              "    <div class=\"colab-df-container\">\n",
              "      <div>\n",
              "<style scoped>\n",
              "    .dataframe tbody tr th:only-of-type {\n",
              "        vertical-align: middle;\n",
              "    }\n",
              "\n",
              "    .dataframe tbody tr th {\n",
              "        vertical-align: top;\n",
              "    }\n",
              "\n",
              "    .dataframe thead th {\n",
              "        text-align: right;\n",
              "    }\n",
              "</style>\n",
              "<table border=\"1\" class=\"dataframe\">\n",
              "  <thead>\n",
              "    <tr style=\"text-align: right;\">\n",
              "      <th></th>\n",
              "      <th>total_bill</th>\n",
              "      <th>tip</th>\n",
              "      <th>size</th>\n",
              "      <th>sex_Female</th>\n",
              "      <th>sex_Male</th>\n",
              "      <th>smoker_No</th>\n",
              "      <th>smoker_Yes</th>\n",
              "      <th>day_Fri</th>\n",
              "      <th>day_Sat</th>\n",
              "      <th>day_Sun</th>\n",
              "      <th>day_Thur</th>\n",
              "      <th>time_Dinner</th>\n",
              "      <th>time_Lunch</th>\n",
              "    </tr>\n",
              "  </thead>\n",
              "  <tbody>\n",
              "    <tr>\n",
              "      <th>0</th>\n",
              "      <td>16.99</td>\n",
              "      <td>1.01</td>\n",
              "      <td>2</td>\n",
              "      <td>1.0</td>\n",
              "      <td>0.0</td>\n",
              "      <td>1.0</td>\n",
              "      <td>0.0</td>\n",
              "      <td>0.0</td>\n",
              "      <td>0.0</td>\n",
              "      <td>1.0</td>\n",
              "      <td>0.0</td>\n",
              "      <td>1.0</td>\n",
              "      <td>0.0</td>\n",
              "    </tr>\n",
              "    <tr>\n",
              "      <th>1</th>\n",
              "      <td>10.34</td>\n",
              "      <td>1.66</td>\n",
              "      <td>3</td>\n",
              "      <td>0.0</td>\n",
              "      <td>1.0</td>\n",
              "      <td>1.0</td>\n",
              "      <td>0.0</td>\n",
              "      <td>0.0</td>\n",
              "      <td>0.0</td>\n",
              "      <td>1.0</td>\n",
              "      <td>0.0</td>\n",
              "      <td>1.0</td>\n",
              "      <td>0.0</td>\n",
              "    </tr>\n",
              "    <tr>\n",
              "      <th>2</th>\n",
              "      <td>21.01</td>\n",
              "      <td>3.50</td>\n",
              "      <td>3</td>\n",
              "      <td>0.0</td>\n",
              "      <td>1.0</td>\n",
              "      <td>1.0</td>\n",
              "      <td>0.0</td>\n",
              "      <td>0.0</td>\n",
              "      <td>0.0</td>\n",
              "      <td>1.0</td>\n",
              "      <td>0.0</td>\n",
              "      <td>1.0</td>\n",
              "      <td>0.0</td>\n",
              "    </tr>\n",
              "    <tr>\n",
              "      <th>3</th>\n",
              "      <td>23.68</td>\n",
              "      <td>3.31</td>\n",
              "      <td>2</td>\n",
              "      <td>0.0</td>\n",
              "      <td>1.0</td>\n",
              "      <td>1.0</td>\n",
              "      <td>0.0</td>\n",
              "      <td>0.0</td>\n",
              "      <td>0.0</td>\n",
              "      <td>1.0</td>\n",
              "      <td>0.0</td>\n",
              "      <td>1.0</td>\n",
              "      <td>0.0</td>\n",
              "    </tr>\n",
              "    <tr>\n",
              "      <th>4</th>\n",
              "      <td>24.59</td>\n",
              "      <td>3.61</td>\n",
              "      <td>4</td>\n",
              "      <td>1.0</td>\n",
              "      <td>0.0</td>\n",
              "      <td>1.0</td>\n",
              "      <td>0.0</td>\n",
              "      <td>0.0</td>\n",
              "      <td>0.0</td>\n",
              "      <td>1.0</td>\n",
              "      <td>0.0</td>\n",
              "      <td>1.0</td>\n",
              "      <td>0.0</td>\n",
              "    </tr>\n",
              "    <tr>\n",
              "      <th>...</th>\n",
              "      <td>...</td>\n",
              "      <td>...</td>\n",
              "      <td>...</td>\n",
              "      <td>...</td>\n",
              "      <td>...</td>\n",
              "      <td>...</td>\n",
              "      <td>...</td>\n",
              "      <td>...</td>\n",
              "      <td>...</td>\n",
              "      <td>...</td>\n",
              "      <td>...</td>\n",
              "      <td>...</td>\n",
              "      <td>...</td>\n",
              "    </tr>\n",
              "    <tr>\n",
              "      <th>239</th>\n",
              "      <td>29.03</td>\n",
              "      <td>5.92</td>\n",
              "      <td>3</td>\n",
              "      <td>0.0</td>\n",
              "      <td>1.0</td>\n",
              "      <td>1.0</td>\n",
              "      <td>0.0</td>\n",
              "      <td>0.0</td>\n",
              "      <td>1.0</td>\n",
              "      <td>0.0</td>\n",
              "      <td>0.0</td>\n",
              "      <td>1.0</td>\n",
              "      <td>0.0</td>\n",
              "    </tr>\n",
              "    <tr>\n",
              "      <th>240</th>\n",
              "      <td>27.18</td>\n",
              "      <td>2.00</td>\n",
              "      <td>2</td>\n",
              "      <td>1.0</td>\n",
              "      <td>0.0</td>\n",
              "      <td>0.0</td>\n",
              "      <td>1.0</td>\n",
              "      <td>0.0</td>\n",
              "      <td>1.0</td>\n",
              "      <td>0.0</td>\n",
              "      <td>0.0</td>\n",
              "      <td>1.0</td>\n",
              "      <td>0.0</td>\n",
              "    </tr>\n",
              "    <tr>\n",
              "      <th>241</th>\n",
              "      <td>22.67</td>\n",
              "      <td>2.00</td>\n",
              "      <td>2</td>\n",
              "      <td>0.0</td>\n",
              "      <td>1.0</td>\n",
              "      <td>0.0</td>\n",
              "      <td>1.0</td>\n",
              "      <td>0.0</td>\n",
              "      <td>1.0</td>\n",
              "      <td>0.0</td>\n",
              "      <td>0.0</td>\n",
              "      <td>1.0</td>\n",
              "      <td>0.0</td>\n",
              "    </tr>\n",
              "    <tr>\n",
              "      <th>242</th>\n",
              "      <td>17.82</td>\n",
              "      <td>1.75</td>\n",
              "      <td>2</td>\n",
              "      <td>0.0</td>\n",
              "      <td>1.0</td>\n",
              "      <td>1.0</td>\n",
              "      <td>0.0</td>\n",
              "      <td>0.0</td>\n",
              "      <td>1.0</td>\n",
              "      <td>0.0</td>\n",
              "      <td>0.0</td>\n",
              "      <td>1.0</td>\n",
              "      <td>0.0</td>\n",
              "    </tr>\n",
              "    <tr>\n",
              "      <th>243</th>\n",
              "      <td>18.78</td>\n",
              "      <td>3.00</td>\n",
              "      <td>2</td>\n",
              "      <td>1.0</td>\n",
              "      <td>0.0</td>\n",
              "      <td>1.0</td>\n",
              "      <td>0.0</td>\n",
              "      <td>0.0</td>\n",
              "      <td>0.0</td>\n",
              "      <td>0.0</td>\n",
              "      <td>1.0</td>\n",
              "      <td>1.0</td>\n",
              "      <td>0.0</td>\n",
              "    </tr>\n",
              "  </tbody>\n",
              "</table>\n",
              "<p>244 rows × 13 columns</p>\n",
              "</div>\n",
              "      <button class=\"colab-df-convert\" onclick=\"convertToInteractive('df-82b6c86e-aa36-40cd-b090-c43f07ae3203')\"\n",
              "              title=\"Convert this dataframe to an interactive table.\"\n",
              "              style=\"display:none;\">\n",
              "        \n",
              "  <svg xmlns=\"http://www.w3.org/2000/svg\" height=\"24px\"viewBox=\"0 0 24 24\"\n",
              "       width=\"24px\">\n",
              "    <path d=\"M0 0h24v24H0V0z\" fill=\"none\"/>\n",
              "    <path d=\"M18.56 5.44l.94 2.06.94-2.06 2.06-.94-2.06-.94-.94-2.06-.94 2.06-2.06.94zm-11 1L8.5 8.5l.94-2.06 2.06-.94-2.06-.94L8.5 2.5l-.94 2.06-2.06.94zm10 10l.94 2.06.94-2.06 2.06-.94-2.06-.94-.94-2.06-.94 2.06-2.06.94z\"/><path d=\"M17.41 7.96l-1.37-1.37c-.4-.4-.92-.59-1.43-.59-.52 0-1.04.2-1.43.59L10.3 9.45l-7.72 7.72c-.78.78-.78 2.05 0 2.83L4 21.41c.39.39.9.59 1.41.59.51 0 1.02-.2 1.41-.59l7.78-7.78 2.81-2.81c.8-.78.8-2.07 0-2.86zM5.41 20L4 18.59l7.72-7.72 1.47 1.35L5.41 20z\"/>\n",
              "  </svg>\n",
              "      </button>\n",
              "      \n",
              "  <style>\n",
              "    .colab-df-container {\n",
              "      display:flex;\n",
              "      flex-wrap:wrap;\n",
              "      gap: 12px;\n",
              "    }\n",
              "\n",
              "    .colab-df-convert {\n",
              "      background-color: #E8F0FE;\n",
              "      border: none;\n",
              "      border-radius: 50%;\n",
              "      cursor: pointer;\n",
              "      display: none;\n",
              "      fill: #1967D2;\n",
              "      height: 32px;\n",
              "      padding: 0 0 0 0;\n",
              "      width: 32px;\n",
              "    }\n",
              "\n",
              "    .colab-df-convert:hover {\n",
              "      background-color: #E2EBFA;\n",
              "      box-shadow: 0px 1px 2px rgba(60, 64, 67, 0.3), 0px 1px 3px 1px rgba(60, 64, 67, 0.15);\n",
              "      fill: #174EA6;\n",
              "    }\n",
              "\n",
              "    [theme=dark] .colab-df-convert {\n",
              "      background-color: #3B4455;\n",
              "      fill: #D2E3FC;\n",
              "    }\n",
              "\n",
              "    [theme=dark] .colab-df-convert:hover {\n",
              "      background-color: #434B5C;\n",
              "      box-shadow: 0px 1px 3px 1px rgba(0, 0, 0, 0.15);\n",
              "      filter: drop-shadow(0px 1px 2px rgba(0, 0, 0, 0.3));\n",
              "      fill: #FFFFFF;\n",
              "    }\n",
              "  </style>\n",
              "\n",
              "      <script>\n",
              "        const buttonEl =\n",
              "          document.querySelector('#df-82b6c86e-aa36-40cd-b090-c43f07ae3203 button.colab-df-convert');\n",
              "        buttonEl.style.display =\n",
              "          google.colab.kernel.accessAllowed ? 'block' : 'none';\n",
              "\n",
              "        async function convertToInteractive(key) {\n",
              "          const element = document.querySelector('#df-82b6c86e-aa36-40cd-b090-c43f07ae3203');\n",
              "          const dataTable =\n",
              "            await google.colab.kernel.invokeFunction('convertToInteractive',\n",
              "                                                     [key], {});\n",
              "          if (!dataTable) return;\n",
              "\n",
              "          const docLinkHtml = 'Like what you see? Visit the ' +\n",
              "            '<a target=\"_blank\" href=https://colab.research.google.com/notebooks/data_table.ipynb>data table notebook</a>'\n",
              "            + ' to learn more about interactive tables.';\n",
              "          element.innerHTML = '';\n",
              "          dataTable['output_type'] = 'display_data';\n",
              "          await google.colab.output.renderOutput(dataTable, element);\n",
              "          const docLink = document.createElement('div');\n",
              "          docLink.innerHTML = docLinkHtml;\n",
              "          element.appendChild(docLink);\n",
              "        }\n",
              "      </script>\n",
              "    </div>\n",
              "  </div>\n",
              "  "
            ]
          },
          "metadata": {},
          "execution_count": 238
        }
      ]
    },
    {
      "cell_type": "code",
      "source": [
        "corr = Tipper_new.corr()\n",
        "corr.style.background_gradient(cmap='Blues')"
      ],
      "metadata": {
        "colab": {
          "base_uri": "https://localhost:8080/",
          "height": 457
        },
        "id": "egnBLnU_2ZvF",
        "outputId": "28266fcd-99b8-4f5e-9a3d-50f4692068f0"
      },
      "execution_count": 239,
      "outputs": [
        {
          "output_type": "execute_result",
          "data": {
            "text/plain": [
              "<pandas.io.formats.style.Styler at 0x7fbb578b4e90>"
            ],
            "text/html": [
              "<style type=\"text/css\">\n",
              "#T_c0117_row0_col0, #T_c0117_row1_col1, #T_c0117_row2_col2, #T_c0117_row3_col3, #T_c0117_row4_col4, #T_c0117_row5_col5, #T_c0117_row6_col6, #T_c0117_row7_col7, #T_c0117_row8_col8, #T_c0117_row9_col9, #T_c0117_row10_col10, #T_c0117_row11_col11, #T_c0117_row12_col12 {\n",
              "  background-color: #08306b;\n",
              "  color: #f1f1f1;\n",
              "}\n",
              "#T_c0117_row0_col1, #T_c0117_row9_col11 {\n",
              "  background-color: #2c7cba;\n",
              "  color: #f1f1f1;\n",
              "}\n",
              "#T_c0117_row0_col2 {\n",
              "  background-color: #3c8cc3;\n",
              "  color: #f1f1f1;\n",
              "}\n",
              "#T_c0117_row0_col3, #T_c0117_row1_col10 {\n",
              "  background-color: #89bedc;\n",
              "  color: #000000;\n",
              "}\n",
              "#T_c0117_row0_col4 {\n",
              "  background-color: #539ecd;\n",
              "  color: #f1f1f1;\n",
              "}\n",
              "#T_c0117_row0_col5 {\n",
              "  background-color: #7cb7da;\n",
              "  color: #000000;\n",
              "}\n",
              "#T_c0117_row0_col6 {\n",
              "  background-color: #5da5d1;\n",
              "  color: #f1f1f1;\n",
              "}\n",
              "#T_c0117_row0_col7 {\n",
              "  background-color: #deebf7;\n",
              "  color: #000000;\n",
              "}\n",
              "#T_c0117_row0_col8, #T_c0117_row4_col8 {\n",
              "  background-color: #a0cbe2;\n",
              "  color: #000000;\n",
              "}\n",
              "#T_c0117_row0_col9, #T_c0117_row1_col9, #T_c0117_row9_col3 {\n",
              "  background-color: #8dc1dd;\n",
              "  color: #000000;\n",
              "}\n",
              "#T_c0117_row0_col10, #T_c0117_row0_col12, #T_c0117_row9_col6 {\n",
              "  background-color: #91c3de;\n",
              "  color: #000000;\n",
              "}\n",
              "#T_c0117_row0_col11, #T_c0117_row9_col5 {\n",
              "  background-color: #4d99ca;\n",
              "  color: #f1f1f1;\n",
              "}\n",
              "#T_c0117_row1_col0 {\n",
              "  background-color: #2777b8;\n",
              "  color: #f1f1f1;\n",
              "}\n",
              "#T_c0117_row1_col2, #T_c0117_row2_col11 {\n",
              "  background-color: #5aa2cf;\n",
              "  color: #f1f1f1;\n",
              "}\n",
              "#T_c0117_row1_col3, #T_c0117_row2_col3, #T_c0117_row5_col9 {\n",
              "  background-color: #7db8da;\n",
              "  color: #000000;\n",
              "}\n",
              "#T_c0117_row1_col4, #T_c0117_row2_col1, #T_c0117_row2_col4, #T_c0117_row5_col10 {\n",
              "  background-color: #5ca4d0;\n",
              "  color: #f1f1f1;\n",
              "}\n",
              "#T_c0117_row1_col5, #T_c0117_row3_col6, #T_c0117_row4_col5, #T_c0117_row5_col4, #T_c0117_row6_col3 {\n",
              "  background-color: #6caed6;\n",
              "  color: #f1f1f1;\n",
              "}\n",
              "#T_c0117_row1_col6, #T_c0117_row3_col5, #T_c0117_row4_col6, #T_c0117_row5_col3, #T_c0117_row6_col4 {\n",
              "  background-color: #6aaed6;\n",
              "  color: #f1f1f1;\n",
              "}\n",
              "#T_c0117_row1_col7, #T_c0117_row11_col7 {\n",
              "  background-color: #d9e8f5;\n",
              "  color: #000000;\n",
              "}\n",
              "#T_c0117_row1_col8 {\n",
              "  background-color: #add0e6;\n",
              "  color: #000000;\n",
              "}\n",
              "#T_c0117_row1_col11 {\n",
              "  background-color: #57a0ce;\n",
              "  color: #f1f1f1;\n",
              "}\n",
              "#T_c0117_row1_col12, #T_c0117_row2_col10 {\n",
              "  background-color: #84bcdb;\n",
              "  color: #000000;\n",
              "}\n",
              "#T_c0117_row2_col0 {\n",
              "  background-color: #3888c1;\n",
              "  color: #f1f1f1;\n",
              "}\n",
              "#T_c0117_row2_col5 {\n",
              "  background-color: #549fcd;\n",
              "  color: #f1f1f1;\n",
              "}\n",
              "#T_c0117_row2_col6 {\n",
              "  background-color: #87bddc;\n",
              "  color: #000000;\n",
              "}\n",
              "#T_c0117_row2_col7, #T_c0117_row5_col0 {\n",
              "  background-color: #e7f0fa;\n",
              "  color: #000000;\n",
              "}\n",
              "#T_c0117_row2_col8 {\n",
              "  background-color: #b4d3e9;\n",
              "  color: #000000;\n",
              "}\n",
              "#T_c0117_row2_col9, #T_c0117_row7_col4 {\n",
              "  background-color: #7ab6d9;\n",
              "  color: #000000;\n",
              "}\n",
              "#T_c0117_row2_col12, #T_c0117_row4_col9 {\n",
              "  background-color: #81badb;\n",
              "  color: #000000;\n",
              "}\n",
              "#T_c0117_row3_col0, #T_c0117_row12_col2 {\n",
              "  background-color: #f1f7fd;\n",
              "  color: #000000;\n",
              "}\n",
              "#T_c0117_row3_col1 {\n",
              "  background-color: #f2f7fd;\n",
              "  color: #000000;\n",
              "}\n",
              "#T_c0117_row3_col2, #T_c0117_row10_col8 {\n",
              "  background-color: #eef5fc;\n",
              "  color: #000000;\n",
              "}\n",
              "#T_c0117_row3_col4, #T_c0117_row4_col3, #T_c0117_row5_col6, #T_c0117_row5_col7, #T_c0117_row6_col5, #T_c0117_row7_col2, #T_c0117_row8_col9, #T_c0117_row9_col8, #T_c0117_row11_col10, #T_c0117_row11_col12, #T_c0117_row12_col0, #T_c0117_row12_col1, #T_c0117_row12_col11 {\n",
              "  background-color: #f7fbff;\n",
              "  color: #000000;\n",
              "}\n",
              "#T_c0117_row3_col7, #T_c0117_row8_col10 {\n",
              "  background-color: #c6dbef;\n",
              "  color: #000000;\n",
              "}\n",
              "#T_c0117_row3_col8 {\n",
              "  background-color: #b7d4ea;\n",
              "  color: #000000;\n",
              "}\n",
              "#T_c0117_row3_col9, #T_c0117_row9_col1 {\n",
              "  background-color: #ccdff1;\n",
              "  color: #000000;\n",
              "}\n",
              "#T_c0117_row3_col10 {\n",
              "  background-color: #519ccc;\n",
              "  color: #f1f1f1;\n",
              "}\n",
              "#T_c0117_row3_col11, #T_c0117_row4_col12, #T_c0117_row11_col3, #T_c0117_row12_col4 {\n",
              "  background-color: #95c5df;\n",
              "  color: #000000;\n",
              "}\n",
              "#T_c0117_row3_col12, #T_c0117_row4_col11, #T_c0117_row11_col4, #T_c0117_row12_col3 {\n",
              "  background-color: #4997c9;\n",
              "  color: #f1f1f1;\n",
              "}\n",
              "#T_c0117_row4_col0, #T_c0117_row9_col10 {\n",
              "  background-color: #bed8ec;\n",
              "  color: #000000;\n",
              "}\n",
              "#T_c0117_row4_col1, #T_c0117_row7_col8 {\n",
              "  background-color: #d2e3f3;\n",
              "  color: #000000;\n",
              "}\n",
              "#T_c0117_row4_col2, #T_c0117_row8_col0 {\n",
              "  background-color: #d0e1f2;\n",
              "  color: #000000;\n",
              "}\n",
              "#T_c0117_row4_col7 {\n",
              "  background-color: #dce9f6;\n",
              "  color: #000000;\n",
              "}\n",
              "#T_c0117_row4_col10, #T_c0117_row7_col5 {\n",
              "  background-color: #9dcae1;\n",
              "  color: #000000;\n",
              "}\n",
              "#T_c0117_row5_col1 {\n",
              "  background-color: #e3eef8;\n",
              "  color: #000000;\n",
              "}\n",
              "#T_c0117_row5_col2 {\n",
              "  background-color: #c8dcf0;\n",
              "  color: #000000;\n",
              "}\n",
              "#T_c0117_row5_col8, #T_c0117_row6_col0 {\n",
              "  background-color: #cadef0;\n",
              "  color: #000000;\n",
              "}\n",
              "#T_c0117_row5_col11, #T_c0117_row6_col12, #T_c0117_row7_col11, #T_c0117_row11_col5, #T_c0117_row12_col6 {\n",
              "  background-color: #77b5d9;\n",
              "  color: #000000;\n",
              "}\n",
              "#T_c0117_row5_col12, #T_c0117_row6_col11, #T_c0117_row7_col12, #T_c0117_row11_col6, #T_c0117_row12_col5 {\n",
              "  background-color: #61a7d2;\n",
              "  color: #f1f1f1;\n",
              "}\n",
              "#T_c0117_row6_col1 {\n",
              "  background-color: #e0ecf8;\n",
              "  color: #000000;\n",
              "}\n",
              "#T_c0117_row6_col2 {\n",
              "  background-color: #f5fafe;\n",
              "  color: #000000;\n",
              "}\n",
              "#T_c0117_row6_col7 {\n",
              "  background-color: #97c6df;\n",
              "  color: #000000;\n",
              "}\n",
              "#T_c0117_row6_col8, #T_c0117_row10_col6 {\n",
              "  background-color: #85bcdc;\n",
              "  color: #000000;\n",
              "}\n",
              "#T_c0117_row6_col9 {\n",
              "  background-color: #cde0f1;\n",
              "  color: #000000;\n",
              "}\n",
              "#T_c0117_row6_col10 {\n",
              "  background-color: #8fc2de;\n",
              "  color: #000000;\n",
              "}\n",
              "#T_c0117_row7_col0 {\n",
              "  background-color: #e7f1fa;\n",
              "  color: #000000;\n",
              "}\n",
              "#T_c0117_row7_col1, #T_c0117_row10_col2, #T_c0117_row10_col7 {\n",
              "  background-color: #ebf3fb;\n",
              "  color: #000000;\n",
              "}\n",
              "#T_c0117_row7_col3 {\n",
              "  background-color: #5fa6d1;\n",
              "  color: #f1f1f1;\n",
              "}\n",
              "#T_c0117_row7_col6 {\n",
              "  background-color: #4292c6;\n",
              "  color: #f1f1f1;\n",
              "}\n",
              "#T_c0117_row7_col9 {\n",
              "  background-color: #cfe1f2;\n",
              "  color: #000000;\n",
              "}\n",
              "#T_c0117_row7_col10 {\n",
              "  background-color: #99c7e0;\n",
              "  color: #000000;\n",
              "}\n",
              "#T_c0117_row8_col1 {\n",
              "  background-color: #e2edf8;\n",
              "  color: #000000;\n",
              "}\n",
              "#T_c0117_row8_col2 {\n",
              "  background-color: #e6f0f9;\n",
              "  color: #000000;\n",
              "}\n",
              "#T_c0117_row8_col3 {\n",
              "  background-color: #75b4d8;\n",
              "  color: #000000;\n",
              "}\n",
              "#T_c0117_row8_col4 {\n",
              "  background-color: #63a8d3;\n",
              "  color: #f1f1f1;\n",
              "}\n",
              "#T_c0117_row8_col5 {\n",
              "  background-color: #8abfdd;\n",
              "  color: #000000;\n",
              "}\n",
              "#T_c0117_row8_col6 {\n",
              "  background-color: #529dcc;\n",
              "  color: #f1f1f1;\n",
              "}\n",
              "#T_c0117_row8_col7, #T_c0117_row10_col1 {\n",
              "  background-color: #f3f8fe;\n",
              "  color: #000000;\n",
              "}\n",
              "#T_c0117_row8_col11 {\n",
              "  background-color: #2575b7;\n",
              "  color: #f1f1f1;\n",
              "}\n",
              "#T_c0117_row8_col12 {\n",
              "  background-color: #c1d9ed;\n",
              "  color: #000000;\n",
              "}\n",
              "#T_c0117_row9_col0 {\n",
              "  background-color: #c3daee;\n",
              "  color: #000000;\n",
              "}\n",
              "#T_c0117_row9_col2 {\n",
              "  background-color: #b8d5ea;\n",
              "  color: #000000;\n",
              "}\n",
              "#T_c0117_row9_col4 {\n",
              "  background-color: #4f9bcb;\n",
              "  color: #f1f1f1;\n",
              "}\n",
              "#T_c0117_row9_col7, #T_c0117_row10_col11 {\n",
              "  background-color: #eff6fc;\n",
              "  color: #000000;\n",
              "}\n",
              "#T_c0117_row9_col12 {\n",
              "  background-color: #b9d6ea;\n",
              "  color: #000000;\n",
              "}\n",
              "#T_c0117_row10_col0 {\n",
              "  background-color: #f0f6fd;\n",
              "  color: #000000;\n",
              "}\n",
              "#T_c0117_row10_col3 {\n",
              "  background-color: #4b98ca;\n",
              "  color: #f1f1f1;\n",
              "}\n",
              "#T_c0117_row10_col4 {\n",
              "  background-color: #92c4de;\n",
              "  color: #000000;\n",
              "}\n",
              "#T_c0117_row10_col5 {\n",
              "  background-color: #56a0ce;\n",
              "  color: #f1f1f1;\n",
              "}\n",
              "#T_c0117_row10_col9 {\n",
              "  background-color: #e9f2fa;\n",
              "  color: #000000;\n",
              "}\n",
              "#T_c0117_row10_col12, #T_c0117_row12_col10 {\n",
              "  background-color: #083a7a;\n",
              "  color: #f1f1f1;\n",
              "}\n",
              "#T_c0117_row11_col0 {\n",
              "  background-color: #b3d3e8;\n",
              "  color: #000000;\n",
              "}\n",
              "#T_c0117_row11_col1, #T_c0117_row11_col2 {\n",
              "  background-color: #cddff1;\n",
              "  color: #000000;\n",
              "}\n",
              "#T_c0117_row11_col8 {\n",
              "  background-color: #3d8dc4;\n",
              "  color: #f1f1f1;\n",
              "}\n",
              "#T_c0117_row11_col9 {\n",
              "  background-color: #4695c8;\n",
              "  color: #f1f1f1;\n",
              "}\n",
              "#T_c0117_row12_col7 {\n",
              "  background-color: #c7dcef;\n",
              "  color: #000000;\n",
              "}\n",
              "#T_c0117_row12_col8 {\n",
              "  background-color: #f2f8fd;\n",
              "  color: #000000;\n",
              "}\n",
              "#T_c0117_row12_col9 {\n",
              "  background-color: #ecf4fb;\n",
              "  color: #000000;\n",
              "}\n",
              "</style>\n",
              "<table id=\"T_c0117_\" class=\"dataframe\">\n",
              "  <thead>\n",
              "    <tr>\n",
              "      <th class=\"blank level0\" >&nbsp;</th>\n",
              "      <th class=\"col_heading level0 col0\" >total_bill</th>\n",
              "      <th class=\"col_heading level0 col1\" >tip</th>\n",
              "      <th class=\"col_heading level0 col2\" >size</th>\n",
              "      <th class=\"col_heading level0 col3\" >sex_Female</th>\n",
              "      <th class=\"col_heading level0 col4\" >sex_Male</th>\n",
              "      <th class=\"col_heading level0 col5\" >smoker_No</th>\n",
              "      <th class=\"col_heading level0 col6\" >smoker_Yes</th>\n",
              "      <th class=\"col_heading level0 col7\" >day_Fri</th>\n",
              "      <th class=\"col_heading level0 col8\" >day_Sat</th>\n",
              "      <th class=\"col_heading level0 col9\" >day_Sun</th>\n",
              "      <th class=\"col_heading level0 col10\" >day_Thur</th>\n",
              "      <th class=\"col_heading level0 col11\" >time_Dinner</th>\n",
              "      <th class=\"col_heading level0 col12\" >time_Lunch</th>\n",
              "    </tr>\n",
              "  </thead>\n",
              "  <tbody>\n",
              "    <tr>\n",
              "      <th id=\"T_c0117_level0_row0\" class=\"row_heading level0 row0\" >total_bill</th>\n",
              "      <td id=\"T_c0117_row0_col0\" class=\"data row0 col0\" >1.000000</td>\n",
              "      <td id=\"T_c0117_row0_col1\" class=\"data row0 col1\" >0.675734</td>\n",
              "      <td id=\"T_c0117_row0_col2\" class=\"data row0 col2\" >0.598315</td>\n",
              "      <td id=\"T_c0117_row0_col3\" class=\"data row0 col3\" >-0.144877</td>\n",
              "      <td id=\"T_c0117_row0_col4\" class=\"data row0 col4\" >0.144877</td>\n",
              "      <td id=\"T_c0117_row0_col5\" class=\"data row0 col5\" >-0.085721</td>\n",
              "      <td id=\"T_c0117_row0_col6\" class=\"data row0 col6\" >0.085721</td>\n",
              "      <td id=\"T_c0117_row0_col7\" class=\"data row0 col7\" >-0.086168</td>\n",
              "      <td id=\"T_c0117_row0_col8\" class=\"data row0 col8\" >0.054919</td>\n",
              "      <td id=\"T_c0117_row0_col9\" class=\"data row0 col9\" >0.122953</td>\n",
              "      <td id=\"T_c0117_row0_col10\" class=\"data row0 col10\" >-0.138174</td>\n",
              "      <td id=\"T_c0117_row0_col11\" class=\"data row0 col11\" >0.183118</td>\n",
              "      <td id=\"T_c0117_row0_col12\" class=\"data row0 col12\" >-0.183118</td>\n",
              "    </tr>\n",
              "    <tr>\n",
              "      <th id=\"T_c0117_level0_row1\" class=\"row_heading level0 row1\" >tip</th>\n",
              "      <td id=\"T_c0117_row1_col0\" class=\"data row1 col0\" >0.675734</td>\n",
              "      <td id=\"T_c0117_row1_col1\" class=\"data row1 col1\" >1.000000</td>\n",
              "      <td id=\"T_c0117_row1_col2\" class=\"data row1 col2\" >0.489299</td>\n",
              "      <td id=\"T_c0117_row1_col3\" class=\"data row1 col3\" >-0.088862</td>\n",
              "      <td id=\"T_c0117_row1_col4\" class=\"data row1 col4\" >0.088862</td>\n",
              "      <td id=\"T_c0117_row1_col5\" class=\"data row1 col5\" >-0.005929</td>\n",
              "      <td id=\"T_c0117_row1_col6\" class=\"data row1 col6\" >0.005929</td>\n",
              "      <td id=\"T_c0117_row1_col7\" class=\"data row1 col7\" >-0.055463</td>\n",
              "      <td id=\"T_c0117_row1_col8\" class=\"data row1 col8\" >-0.002790</td>\n",
              "      <td id=\"T_c0117_row1_col9\" class=\"data row1 col9\" >0.125114</td>\n",
              "      <td id=\"T_c0117_row1_col10\" class=\"data row1 col10\" >-0.095879</td>\n",
              "      <td id=\"T_c0117_row1_col11\" class=\"data row1 col11\" >0.121629</td>\n",
              "      <td id=\"T_c0117_row1_col12\" class=\"data row1 col12\" >-0.121629</td>\n",
              "    </tr>\n",
              "    <tr>\n",
              "      <th id=\"T_c0117_level0_row2\" class=\"row_heading level0 row2\" >size</th>\n",
              "      <td id=\"T_c0117_row2_col0\" class=\"data row2 col0\" >0.598315</td>\n",
              "      <td id=\"T_c0117_row2_col1\" class=\"data row2 col1\" >0.489299</td>\n",
              "      <td id=\"T_c0117_row2_col2\" class=\"data row2 col2\" >1.000000</td>\n",
              "      <td id=\"T_c0117_row2_col3\" class=\"data row2 col3\" >-0.086195</td>\n",
              "      <td id=\"T_c0117_row2_col4\" class=\"data row2 col4\" >0.086195</td>\n",
              "      <td id=\"T_c0117_row2_col5\" class=\"data row2 col5\" >0.133178</td>\n",
              "      <td id=\"T_c0117_row2_col6\" class=\"data row2 col6\" >-0.133178</td>\n",
              "      <td id=\"T_c0117_row2_col7\" class=\"data row2 col7\" >-0.142184</td>\n",
              "      <td id=\"T_c0117_row2_col8\" class=\"data row2 col8\" >-0.041121</td>\n",
              "      <td id=\"T_c0117_row2_col9\" class=\"data row2 col9\" >0.193054</td>\n",
              "      <td id=\"T_c0117_row2_col10\" class=\"data row2 col10\" >-0.072598</td>\n",
              "      <td id=\"T_c0117_row2_col11\" class=\"data row2 col11\" >0.103411</td>\n",
              "      <td id=\"T_c0117_row2_col12\" class=\"data row2 col12\" >-0.103411</td>\n",
              "    </tr>\n",
              "    <tr>\n",
              "      <th id=\"T_c0117_level0_row3\" class=\"row_heading level0 row3\" >sex_Female</th>\n",
              "      <td id=\"T_c0117_row3_col0\" class=\"data row3 col0\" >-0.144877</td>\n",
              "      <td id=\"T_c0117_row3_col1\" class=\"data row3 col1\" >-0.088862</td>\n",
              "      <td id=\"T_c0117_row3_col2\" class=\"data row3 col2\" >-0.086195</td>\n",
              "      <td id=\"T_c0117_row3_col3\" class=\"data row3 col3\" >1.000000</td>\n",
              "      <td id=\"T_c0117_row3_col4\" class=\"data row3 col4\" >-1.000000</td>\n",
              "      <td id=\"T_c0117_row3_col5\" class=\"data row3 col5\" >0.002816</td>\n",
              "      <td id=\"T_c0117_row3_col6\" class=\"data row3 col6\" >-0.002816</td>\n",
              "      <td id=\"T_c0117_row3_col7\" class=\"data row3 col7\" >0.071060</td>\n",
              "      <td id=\"T_c0117_row3_col8\" class=\"data row3 col8\" >-0.053957</td>\n",
              "      <td id=\"T_c0117_row3_col9\" class=\"data row3 col9\" >-0.168106</td>\n",
              "      <td id=\"T_c0117_row3_col10\" class=\"data row3 col10\" >0.194445</td>\n",
              "      <td id=\"T_c0117_row3_col11\" class=\"data row3 col11\" >-0.205231</td>\n",
              "      <td id=\"T_c0117_row3_col12\" class=\"data row3 col12\" >0.205231</td>\n",
              "    </tr>\n",
              "    <tr>\n",
              "      <th id=\"T_c0117_level0_row4\" class=\"row_heading level0 row4\" >sex_Male</th>\n",
              "      <td id=\"T_c0117_row4_col0\" class=\"data row4 col0\" >0.144877</td>\n",
              "      <td id=\"T_c0117_row4_col1\" class=\"data row4 col1\" >0.088862</td>\n",
              "      <td id=\"T_c0117_row4_col2\" class=\"data row4 col2\" >0.086195</td>\n",
              "      <td id=\"T_c0117_row4_col3\" class=\"data row4 col3\" >-1.000000</td>\n",
              "      <td id=\"T_c0117_row4_col4\" class=\"data row4 col4\" >1.000000</td>\n",
              "      <td id=\"T_c0117_row4_col5\" class=\"data row4 col5\" >-0.002816</td>\n",
              "      <td id=\"T_c0117_row4_col6\" class=\"data row4 col6\" >0.002816</td>\n",
              "      <td id=\"T_c0117_row4_col7\" class=\"data row4 col7\" >-0.071060</td>\n",
              "      <td id=\"T_c0117_row4_col8\" class=\"data row4 col8\" >0.053957</td>\n",
              "      <td id=\"T_c0117_row4_col9\" class=\"data row4 col9\" >0.168106</td>\n",
              "      <td id=\"T_c0117_row4_col10\" class=\"data row4 col10\" >-0.194445</td>\n",
              "      <td id=\"T_c0117_row4_col11\" class=\"data row4 col11\" >0.205231</td>\n",
              "      <td id=\"T_c0117_row4_col12\" class=\"data row4 col12\" >-0.205231</td>\n",
              "    </tr>\n",
              "    <tr>\n",
              "      <th id=\"T_c0117_level0_row5\" class=\"row_heading level0 row5\" >smoker_No</th>\n",
              "      <td id=\"T_c0117_row5_col0\" class=\"data row5 col0\" >-0.085721</td>\n",
              "      <td id=\"T_c0117_row5_col1\" class=\"data row5 col1\" >-0.005929</td>\n",
              "      <td id=\"T_c0117_row5_col2\" class=\"data row5 col2\" >0.133178</td>\n",
              "      <td id=\"T_c0117_row5_col3\" class=\"data row5 col3\" >0.002816</td>\n",
              "      <td id=\"T_c0117_row5_col4\" class=\"data row5 col4\" >-0.002816</td>\n",
              "      <td id=\"T_c0117_row5_col5\" class=\"data row5 col5\" >1.000000</td>\n",
              "      <td id=\"T_c0117_row5_col6\" class=\"data row5 col6\" >-1.000000</td>\n",
              "      <td id=\"T_c0117_row5_col7\" class=\"data row5 col7\" >-0.244316</td>\n",
              "      <td id=\"T_c0117_row5_col8\" class=\"data row5 col8\" >-0.155744</td>\n",
              "      <td id=\"T_c0117_row5_col9\" class=\"data row5 col9\" >0.181624</td>\n",
              "      <td id=\"T_c0117_row5_col10\" class=\"data row5 col10\" >0.128534</td>\n",
              "      <td id=\"T_c0117_row5_col11\" class=\"data row5 col11\" >-0.054921</td>\n",
              "      <td id=\"T_c0117_row5_col12\" class=\"data row5 col12\" >0.054921</td>\n",
              "    </tr>\n",
              "    <tr>\n",
              "      <th id=\"T_c0117_level0_row6\" class=\"row_heading level0 row6\" >smoker_Yes</th>\n",
              "      <td id=\"T_c0117_row6_col0\" class=\"data row6 col0\" >0.085721</td>\n",
              "      <td id=\"T_c0117_row6_col1\" class=\"data row6 col1\" >0.005929</td>\n",
              "      <td id=\"T_c0117_row6_col2\" class=\"data row6 col2\" >-0.133178</td>\n",
              "      <td id=\"T_c0117_row6_col3\" class=\"data row6 col3\" >-0.002816</td>\n",
              "      <td id=\"T_c0117_row6_col4\" class=\"data row6 col4\" >0.002816</td>\n",
              "      <td id=\"T_c0117_row6_col5\" class=\"data row6 col5\" >-1.000000</td>\n",
              "      <td id=\"T_c0117_row6_col6\" class=\"data row6 col6\" >1.000000</td>\n",
              "      <td id=\"T_c0117_row6_col7\" class=\"data row6 col7\" >0.244316</td>\n",
              "      <td id=\"T_c0117_row6_col8\" class=\"data row6 col8\" >0.155744</td>\n",
              "      <td id=\"T_c0117_row6_col9\" class=\"data row6 col9\" >-0.181624</td>\n",
              "      <td id=\"T_c0117_row6_col10\" class=\"data row6 col10\" >-0.128534</td>\n",
              "      <td id=\"T_c0117_row6_col11\" class=\"data row6 col11\" >0.054921</td>\n",
              "      <td id=\"T_c0117_row6_col12\" class=\"data row6 col12\" >-0.054921</td>\n",
              "    </tr>\n",
              "    <tr>\n",
              "      <th id=\"T_c0117_level0_row7\" class=\"row_heading level0 row7\" >day_Fri</th>\n",
              "      <td id=\"T_c0117_row7_col0\" class=\"data row7 col0\" >-0.086168</td>\n",
              "      <td id=\"T_c0117_row7_col1\" class=\"data row7 col1\" >-0.055463</td>\n",
              "      <td id=\"T_c0117_row7_col2\" class=\"data row7 col2\" >-0.142184</td>\n",
              "      <td id=\"T_c0117_row7_col3\" class=\"data row7 col3\" >0.071060</td>\n",
              "      <td id=\"T_c0117_row7_col4\" class=\"data row7 col4\" >-0.071060</td>\n",
              "      <td id=\"T_c0117_row7_col5\" class=\"data row7 col5\" >-0.244316</td>\n",
              "      <td id=\"T_c0117_row7_col6\" class=\"data row7 col6\" >0.244316</td>\n",
              "      <td id=\"T_c0117_row7_col7\" class=\"data row7 col7\" >1.000000</td>\n",
              "      <td id=\"T_c0117_row7_col8\" class=\"data row7 col8\" >-0.216319</td>\n",
              "      <td id=\"T_c0117_row7_col9\" class=\"data row7 col9\" >-0.195451</td>\n",
              "      <td id=\"T_c0117_row7_col10\" class=\"data row7 col10\" >-0.169608</td>\n",
              "      <td id=\"T_c0117_row7_col11\" class=\"data row7 col11\" >-0.058159</td>\n",
              "      <td id=\"T_c0117_row7_col12\" class=\"data row7 col12\" >0.058159</td>\n",
              "    </tr>\n",
              "    <tr>\n",
              "      <th id=\"T_c0117_level0_row8\" class=\"row_heading level0 row8\" >day_Sat</th>\n",
              "      <td id=\"T_c0117_row8_col0\" class=\"data row8 col0\" >0.054919</td>\n",
              "      <td id=\"T_c0117_row8_col1\" class=\"data row8 col1\" >-0.002790</td>\n",
              "      <td id=\"T_c0117_row8_col2\" class=\"data row8 col2\" >-0.041121</td>\n",
              "      <td id=\"T_c0117_row8_col3\" class=\"data row8 col3\" >-0.053957</td>\n",
              "      <td id=\"T_c0117_row8_col4\" class=\"data row8 col4\" >0.053957</td>\n",
              "      <td id=\"T_c0117_row8_col5\" class=\"data row8 col5\" >-0.155744</td>\n",
              "      <td id=\"T_c0117_row8_col6\" class=\"data row8 col6\" >0.155744</td>\n",
              "      <td id=\"T_c0117_row8_col7\" class=\"data row8 col7\" >-0.216319</td>\n",
              "      <td id=\"T_c0117_row8_col8\" class=\"data row8 col8\" >1.000000</td>\n",
              "      <td id=\"T_c0117_row8_col9\" class=\"data row8 col9\" >-0.500682</td>\n",
              "      <td id=\"T_c0117_row8_col10\" class=\"data row8 col10\" >-0.434480</td>\n",
              "      <td id=\"T_c0117_row8_col11\" class=\"data row8 col11\" >0.462709</td>\n",
              "      <td id=\"T_c0117_row8_col12\" class=\"data row8 col12\" >-0.462709</td>\n",
              "    </tr>\n",
              "    <tr>\n",
              "      <th id=\"T_c0117_level0_row9\" class=\"row_heading level0 row9\" >day_Sun</th>\n",
              "      <td id=\"T_c0117_row9_col0\" class=\"data row9 col0\" >0.122953</td>\n",
              "      <td id=\"T_c0117_row9_col1\" class=\"data row9 col1\" >0.125114</td>\n",
              "      <td id=\"T_c0117_row9_col2\" class=\"data row9 col2\" >0.193054</td>\n",
              "      <td id=\"T_c0117_row9_col3\" class=\"data row9 col3\" >-0.168106</td>\n",
              "      <td id=\"T_c0117_row9_col4\" class=\"data row9 col4\" >0.168106</td>\n",
              "      <td id=\"T_c0117_row9_col5\" class=\"data row9 col5\" >0.181624</td>\n",
              "      <td id=\"T_c0117_row9_col6\" class=\"data row9 col6\" >-0.181624</td>\n",
              "      <td id=\"T_c0117_row9_col7\" class=\"data row9 col7\" >-0.195451</td>\n",
              "      <td id=\"T_c0117_row9_col8\" class=\"data row9 col8\" >-0.500682</td>\n",
              "      <td id=\"T_c0117_row9_col9\" class=\"data row9 col9\" >1.000000</td>\n",
              "      <td id=\"T_c0117_row9_col10\" class=\"data row9 col10\" >-0.392566</td>\n",
              "      <td id=\"T_c0117_row9_col11\" class=\"data row9 col11\" >0.418071</td>\n",
              "      <td id=\"T_c0117_row9_col12\" class=\"data row9 col12\" >-0.418071</td>\n",
              "    </tr>\n",
              "    <tr>\n",
              "      <th id=\"T_c0117_level0_row10\" class=\"row_heading level0 row10\" >day_Thur</th>\n",
              "      <td id=\"T_c0117_row10_col0\" class=\"data row10 col0\" >-0.138174</td>\n",
              "      <td id=\"T_c0117_row10_col1\" class=\"data row10 col1\" >-0.095879</td>\n",
              "      <td id=\"T_c0117_row10_col2\" class=\"data row10 col2\" >-0.072598</td>\n",
              "      <td id=\"T_c0117_row10_col3\" class=\"data row10 col3\" >0.194445</td>\n",
              "      <td id=\"T_c0117_row10_col4\" class=\"data row10 col4\" >-0.194445</td>\n",
              "      <td id=\"T_c0117_row10_col5\" class=\"data row10 col5\" >0.128534</td>\n",
              "      <td id=\"T_c0117_row10_col6\" class=\"data row10 col6\" >-0.128534</td>\n",
              "      <td id=\"T_c0117_row10_col7\" class=\"data row10 col7\" >-0.169608</td>\n",
              "      <td id=\"T_c0117_row10_col8\" class=\"data row10 col8\" >-0.434480</td>\n",
              "      <td id=\"T_c0117_row10_col9\" class=\"data row10 col9\" >-0.392566</td>\n",
              "      <td id=\"T_c0117_row10_col10\" class=\"data row10 col10\" >1.000000</td>\n",
              "      <td id=\"T_c0117_row10_col11\" class=\"data row10 col11\" >-0.917996</td>\n",
              "      <td id=\"T_c0117_row10_col12\" class=\"data row10 col12\" >0.917996</td>\n",
              "    </tr>\n",
              "    <tr>\n",
              "      <th id=\"T_c0117_level0_row11\" class=\"row_heading level0 row11\" >time_Dinner</th>\n",
              "      <td id=\"T_c0117_row11_col0\" class=\"data row11 col0\" >0.183118</td>\n",
              "      <td id=\"T_c0117_row11_col1\" class=\"data row11 col1\" >0.121629</td>\n",
              "      <td id=\"T_c0117_row11_col2\" class=\"data row11 col2\" >0.103411</td>\n",
              "      <td id=\"T_c0117_row11_col3\" class=\"data row11 col3\" >-0.205231</td>\n",
              "      <td id=\"T_c0117_row11_col4\" class=\"data row11 col4\" >0.205231</td>\n",
              "      <td id=\"T_c0117_row11_col5\" class=\"data row11 col5\" >-0.054921</td>\n",
              "      <td id=\"T_c0117_row11_col6\" class=\"data row11 col6\" >0.054921</td>\n",
              "      <td id=\"T_c0117_row11_col7\" class=\"data row11 col7\" >-0.058159</td>\n",
              "      <td id=\"T_c0117_row11_col8\" class=\"data row11 col8\" >0.462709</td>\n",
              "      <td id=\"T_c0117_row11_col9\" class=\"data row11 col9\" >0.418071</td>\n",
              "      <td id=\"T_c0117_row11_col10\" class=\"data row11 col10\" >-0.917996</td>\n",
              "      <td id=\"T_c0117_row11_col11\" class=\"data row11 col11\" >1.000000</td>\n",
              "      <td id=\"T_c0117_row11_col12\" class=\"data row11 col12\" >-1.000000</td>\n",
              "    </tr>\n",
              "    <tr>\n",
              "      <th id=\"T_c0117_level0_row12\" class=\"row_heading level0 row12\" >time_Lunch</th>\n",
              "      <td id=\"T_c0117_row12_col0\" class=\"data row12 col0\" >-0.183118</td>\n",
              "      <td id=\"T_c0117_row12_col1\" class=\"data row12 col1\" >-0.121629</td>\n",
              "      <td id=\"T_c0117_row12_col2\" class=\"data row12 col2\" >-0.103411</td>\n",
              "      <td id=\"T_c0117_row12_col3\" class=\"data row12 col3\" >0.205231</td>\n",
              "      <td id=\"T_c0117_row12_col4\" class=\"data row12 col4\" >-0.205231</td>\n",
              "      <td id=\"T_c0117_row12_col5\" class=\"data row12 col5\" >0.054921</td>\n",
              "      <td id=\"T_c0117_row12_col6\" class=\"data row12 col6\" >-0.054921</td>\n",
              "      <td id=\"T_c0117_row12_col7\" class=\"data row12 col7\" >0.058159</td>\n",
              "      <td id=\"T_c0117_row12_col8\" class=\"data row12 col8\" >-0.462709</td>\n",
              "      <td id=\"T_c0117_row12_col9\" class=\"data row12 col9\" >-0.418071</td>\n",
              "      <td id=\"T_c0117_row12_col10\" class=\"data row12 col10\" >0.917996</td>\n",
              "      <td id=\"T_c0117_row12_col11\" class=\"data row12 col11\" >-1.000000</td>\n",
              "      <td id=\"T_c0117_row12_col12\" class=\"data row12 col12\" >1.000000</td>\n",
              "    </tr>\n",
              "  </tbody>\n",
              "</table>\n"
            ]
          },
          "metadata": {},
          "execution_count": 239
        }
      ]
    },
    {
      "cell_type": "code",
      "source": [
        "X = Tipper_new[[\"total_bill\",\t\"size\",\t\"sex_Female\",\t\"sex_Male\",\t\"day_Fri\",\"day_Sat\",\t\"day_Sun\",\t\"day_Thur\",\t\"time_Dinner\",\t\"time_Lunch\"]]           "
      ],
      "metadata": {
        "id": "l-jkFAGd2Zrp"
      },
      "execution_count": 240,
      "outputs": []
    },
    {
      "cell_type": "code",
      "source": [
        "y = Tipper_new.tip\n",
        "y"
      ],
      "metadata": {
        "colab": {
          "base_uri": "https://localhost:8080/"
        },
        "id": "6l4DSnmz2ZpF",
        "outputId": "7d5eec5d-f1f3-4b54-fc10-814a2c89fac5"
      },
      "execution_count": 241,
      "outputs": [
        {
          "output_type": "execute_result",
          "data": {
            "text/plain": [
              "0      1.01\n",
              "1      1.66\n",
              "2      3.50\n",
              "3      3.31\n",
              "4      3.61\n",
              "       ... \n",
              "239    5.92\n",
              "240    2.00\n",
              "241    2.00\n",
              "242    1.75\n",
              "243    3.00\n",
              "Name: tip, Length: 244, dtype: float64"
            ]
          },
          "metadata": {},
          "execution_count": 241
        }
      ]
    },
    {
      "cell_type": "code",
      "source": [
        "X_train, X_test, y_train, y_test = train_test_split(X, y, test_size=0.3, random_state=0)"
      ],
      "metadata": {
        "id": "i6f0F7L55_uC"
      },
      "execution_count": 242,
      "outputs": []
    },
    {
      "cell_type": "code",
      "source": [
        "linearmodel = LinearRegression()"
      ],
      "metadata": {
        "id": "p5Khbovc2Zme"
      },
      "execution_count": 243,
      "outputs": []
    },
    {
      "cell_type": "code",
      "source": [
        "linearmodel.fit(X_train,y_train)"
      ],
      "metadata": {
        "colab": {
          "base_uri": "https://localhost:8080/"
        },
        "id": "TwjjK4fd302N",
        "outputId": "9bdaff8a-ce92-49b3-e235-305d4674dc22"
      },
      "execution_count": 244,
      "outputs": [
        {
          "output_type": "execute_result",
          "data": {
            "text/plain": [
              "LinearRegression()"
            ]
          },
          "metadata": {},
          "execution_count": 244
        }
      ]
    },
    {
      "cell_type": "code",
      "source": [
        "predictions = linearmodel.predict(X_test)"
      ],
      "metadata": {
        "id": "UtUWYVHz6cIf"
      },
      "execution_count": 245,
      "outputs": []
    },
    {
      "cell_type": "code",
      "source": [
        "plt.scatter(y_test,predictions)"
      ],
      "metadata": {
        "colab": {
          "base_uri": "https://localhost:8080/",
          "height": 282
        },
        "id": "tHFko_8Z6cE5",
        "outputId": "dc8f412c-92eb-4779-b4ae-585c94703100"
      },
      "execution_count": 246,
      "outputs": [
        {
          "output_type": "execute_result",
          "data": {
            "text/plain": [
              "<matplotlib.collections.PathCollection at 0x7fbb5708d350>"
            ]
          },
          "metadata": {},
          "execution_count": 246
        },
        {
          "output_type": "display_data",
          "data": {
            "text/plain": [
              "<Figure size 432x288 with 1 Axes>"
            ],
            "image/png": "[encoded data removed]"
          },
          "metadata": {
            "needs_background": "light"
          }
        }
      ]
    },
    {
      "cell_type": "code",
      "source": [
        "y_pred = linearmodel.predict(X_test)\n",
        "\n",
        "print(y_pred)"
      ],
      "metadata": {
        "colab": {
          "base_uri": "https://localhost:8080/"
        },
        "id": "pZLAGN6s6b64",
        "outputId": "e45d0b78-16c4-47a4-86d3-40f85940c3bb"
      },
      "execution_count": 247,
      "outputs": [
        {
          "output_type": "stream",
          "name": "stdout",
          "text": [
            "[2.7712862  3.07661002 2.7842884  1.31972692 3.14291533 1.80510033\n",
            " 2.55787883 3.12696722 2.86445159 4.62286848 3.1715674  3.20843315\n",
            " 2.30061152 2.22490291 2.9316959  4.24360156 1.80994028 2.20806087\n",
            " 2.34168811 3.34929851 3.88409997 2.78248415 2.53573325 2.38717362\n",
            " 2.31352745 2.52831645 2.81925441 4.69554807 3.78758886 2.32290188\n",
            " 2.23009303 2.17849849 2.42108455 1.86064243 2.67720127 2.19681631\n",
            " 2.66927577 1.98663405 5.75735787 3.35989227 2.25692148 2.17403653\n",
            " 2.60173158 4.39426378 2.05429166 2.75914924 2.5864354  2.97079849\n",
            " 2.68176927 3.92947931 4.02424437 2.64150556 2.78722377 6.31509615\n",
            " 1.85859945 2.40863549 4.2016591  3.24767178 2.38045691 2.17478414\n",
            " 3.76953444 2.36958396 2.99620791 3.71859696 4.09098294 2.34459696\n",
            " 2.77741953 3.88843644 2.16660045 3.92034882 2.66447455 1.8966158\n",
            " 3.68200886 2.19261254]\n"
          ]
        }
      ]
    },
    {
      "cell_type": "code",
      "source": [
        "test_dataset = pd.DataFrame(X_test, columns= [\"total_bill\",\t\"size\",\t\"sex_Female\",\t\"sex_Male\",\t\"smoker_No\",\"day_Fri\",\"day_Sat\",\t\"day_Sun\",\t\"day_Thur\",\t\"time_Dinner\",\t\"time_Lunch\"])\n",
        "\n",
        "test_dataset['Actual_tip'] = y_test.to_numpy()\n",
        "test_dataset['Predict_tip'] = y_pred\n",
        "\n",
        "test_dataset"
      ],
      "metadata": {
        "colab": {
          "base_uri": "https://localhost:8080/",
          "height": 424
        },
        "id": "cT6s7usT6yRZ",
        "outputId": "714f7298-ae83-4b9a-f89a-ce31caa13e24"
      },
      "execution_count": 248,
      "outputs": [
        {
          "output_type": "execute_result",
          "data": {
            "text/plain": [
              "     total_bill  size  sex_Female  sex_Male  smoker_No  day_Fri  day_Sat  \\\n",
              "64        17.59     3         0.0       1.0        NaN      0.0      1.0   \n",
              "63        18.29     4         0.0       1.0        NaN      0.0      1.0   \n",
              "55        19.49     2         0.0       1.0        NaN      0.0      0.0   \n",
              "111        7.25     1         1.0       0.0        NaN      0.0      1.0   \n",
              "225       16.27     2         1.0       0.0        NaN      1.0      0.0   \n",
              "..          ...   ...         ...       ...        ...      ...      ...   \n",
              "90        28.97     2         0.0       1.0        NaN      1.0      0.0   \n",
              "101       15.38     2         1.0       0.0        NaN      1.0      0.0   \n",
              "75        10.51     2         0.0       1.0        NaN      0.0      1.0   \n",
              "4         24.59     4         1.0       0.0        NaN      0.0      0.0   \n",
              "109       14.31     2         1.0       0.0        NaN      0.0      1.0   \n",
              "\n",
              "     day_Sun  day_Thur  time_Dinner  time_Lunch  Actual_tip  Predict_tip  \n",
              "64       0.0       0.0          1.0         0.0        2.64     2.771286  \n",
              "63       0.0       0.0          1.0         0.0        3.76     3.076610  \n",
              "55       1.0       0.0          1.0         0.0        3.51     2.784288  \n",
              "111      0.0       0.0          1.0         0.0        1.00     1.319727  \n",
              "225      0.0       0.0          0.0         1.0        2.50     3.142915  \n",
              "..       ...       ...          ...         ...         ...          ...  \n",
              "90       0.0       0.0          1.0         0.0        3.00     3.920349  \n",
              "101      0.0       0.0          1.0         0.0        3.00     2.664475  \n",
              "75       0.0       0.0          1.0         0.0        1.25     1.896616  \n",
              "4        1.0       0.0          1.0         0.0        3.61     3.682009  \n",
              "109      0.0       0.0          1.0         0.0        4.00     2.192613  \n",
              "\n",
              "[74 rows x 13 columns]"
            ],
            "text/html": [
              "\n",
              "  <div id=\"df-959970b2-c8fe-4296-bdca-baea5e180f2e\">\n",
              "    <div class=\"colab-df-container\">\n",
              "      <div>\n",
              "<style scoped>\n",
              "    .dataframe tbody tr th:only-of-type {\n",
              "        vertical-align: middle;\n",
              "    }\n",
              "\n",
              "    .dataframe tbody tr th {\n",
              "        vertical-align: top;\n",
              "    }\n",
              "\n",
              "    .dataframe thead th {\n",
              "        text-align: right;\n",
              "    }\n",
              "</style>\n",
              "<table border=\"1\" class=\"dataframe\">\n",
              "  <thead>\n",
              "    <tr style=\"text-align: right;\">\n",
              "      <th></th>\n",
              "      <th>total_bill</th>\n",
              "      <th>size</th>\n",
              "      <th>sex_Female</th>\n",
              "      <th>sex_Male</th>\n",
              "      <th>smoker_No</th>\n",
              "      <th>day_Fri</th>\n",
              "      <th>day_Sat</th>\n",
              "      <th>day_Sun</th>\n",
              "      <th>day_Thur</th>\n",
              "      <th>time_Dinner</th>\n",
              "      <th>time_Lunch</th>\n",
              "      <th>Actual_tip</th>\n",
              "      <th>Predict_tip</th>\n",
              "    </tr>\n",
              "  </thead>\n",
              "  <tbody>\n",
              "    <tr>\n",
              "      <th>64</th>\n",
              "      <td>17.59</td>\n",
              "      <td>3</td>\n",
              "      <td>0.0</td>\n",
              "      <td>1.0</td>\n",
              "      <td>NaN</td>\n",
              "      <td>0.0</td>\n",
              "      <td>1.0</td>\n",
              "      <td>0.0</td>\n",
              "      <td>0.0</td>\n",
              "      <td>1.0</td>\n",
              "      <td>0.0</td>\n",
              "      <td>2.64</td>\n",
              "      <td>2.771286</td>\n",
              "    </tr>\n",
              "    <tr>\n",
              "      <th>63</th>\n",
              "      <td>18.29</td>\n",
              "      <td>4</td>\n",
              "      <td>0.0</td>\n",
              "      <td>1.0</td>\n",
              "      <td>NaN</td>\n",
              "      <td>0.0</td>\n",
              "      <td>1.0</td>\n",
              "      <td>0.0</td>\n",
              "      <td>0.0</td>\n",
              "      <td>1.0</td>\n",
              "      <td>0.0</td>\n",
              "      <td>3.76</td>\n",
              "      <td>3.076610</td>\n",
              "    </tr>\n",
              "    <tr>\n",
              "      <th>55</th>\n",
              "      <td>19.49</td>\n",
              "      <td>2</td>\n",
              "      <td>0.0</td>\n",
              "      <td>1.0</td>\n",
              "      <td>NaN</td>\n",
              "      <td>0.0</td>\n",
              "      <td>0.0</td>\n",
              "      <td>1.0</td>\n",
              "      <td>0.0</td>\n",
              "      <td>1.0</td>\n",
              "      <td>0.0</td>\n",
              "      <td>3.51</td>\n",
              "      <td>2.784288</td>\n",
              "    </tr>\n",
              "    <tr>\n",
              "      <th>111</th>\n",
              "      <td>7.25</td>\n",
              "      <td>1</td>\n",
              "      <td>1.0</td>\n",
              "      <td>0.0</td>\n",
              "      <td>NaN</td>\n",
              "      <td>0.0</td>\n",
              "      <td>1.0</td>\n",
              "      <td>0.0</td>\n",
              "      <td>0.0</td>\n",
              "      <td>1.0</td>\n",
              "      <td>0.0</td>\n",
              "      <td>1.00</td>\n",
              "      <td>1.319727</td>\n",
              "    </tr>\n",
              "    <tr>\n",
              "      <th>225</th>\n",
              "      <td>16.27</td>\n",
              "      <td>2</td>\n",
              "      <td>1.0</td>\n",
              "      <td>0.0</td>\n",
              "      <td>NaN</td>\n",
              "      <td>1.0</td>\n",
              "      <td>0.0</td>\n",
              "      <td>0.0</td>\n",
              "      <td>0.0</td>\n",
              "      <td>0.0</td>\n",
              "      <td>1.0</td>\n",
              "      <td>2.50</td>\n",
              "      <td>3.142915</td>\n",
              "    </tr>\n",
              "    <tr>\n",
              "      <th>...</th>\n",
              "      <td>...</td>\n",
              "      <td>...</td>\n",
              "      <td>...</td>\n",
              "      <td>...</td>\n",
              "      <td>...</td>\n",
              "      <td>...</td>\n",
              "      <td>...</td>\n",
              "      <td>...</td>\n",
              "      <td>...</td>\n",
              "      <td>...</td>\n",
              "      <td>...</td>\n",
              "      <td>...</td>\n",
              "      <td>...</td>\n",
              "    </tr>\n",
              "    <tr>\n",
              "      <th>90</th>\n",
              "      <td>28.97</td>\n",
              "      <td>2</td>\n",
              "      <td>0.0</td>\n",
              "      <td>1.0</td>\n",
              "      <td>NaN</td>\n",
              "      <td>1.0</td>\n",
              "      <td>0.0</td>\n",
              "      <td>0.0</td>\n",
              "      <td>0.0</td>\n",
              "      <td>1.0</td>\n",
              "      <td>0.0</td>\n",
              "      <td>3.00</td>\n",
              "      <td>3.920349</td>\n",
              "    </tr>\n",
              "    <tr>\n",
              "      <th>101</th>\n",
              "      <td>15.38</td>\n",
              "      <td>2</td>\n",
              "      <td>1.0</td>\n",
              "      <td>0.0</td>\n",
              "      <td>NaN</td>\n",
              "      <td>1.0</td>\n",
              "      <td>0.0</td>\n",
              "      <td>0.0</td>\n",
              "      <td>0.0</td>\n",
              "      <td>1.0</td>\n",
              "      <td>0.0</td>\n",
              "      <td>3.00</td>\n",
              "      <td>2.664475</td>\n",
              "    </tr>\n",
              "    <tr>\n",
              "      <th>75</th>\n",
              "      <td>10.51</td>\n",
              "      <td>2</td>\n",
              "      <td>0.0</td>\n",
              "      <td>1.0</td>\n",
              "      <td>NaN</td>\n",
              "      <td>0.0</td>\n",
              "      <td>1.0</td>\n",
              "      <td>0.0</td>\n",
              "      <td>0.0</td>\n",
              "      <td>1.0</td>\n",
              "      <td>0.0</td>\n",
              "      <td>1.25</td>\n",
              "      <td>1.896616</td>\n",
              "    </tr>\n",
              "    <tr>\n",
              "      <th>4</th>\n",
              "      <td>24.59</td>\n",
              "      <td>4</td>\n",
              "      <td>1.0</td>\n",
              "      <td>0.0</td>\n",
              "      <td>NaN</td>\n",
              "      <td>0.0</td>\n",
              "      <td>0.0</td>\n",
              "      <td>1.0</td>\n",
              "      <td>0.0</td>\n",
              "      <td>1.0</td>\n",
              "      <td>0.0</td>\n",
              "      <td>3.61</td>\n",
              "      <td>3.682009</td>\n",
              "    </tr>\n",
              "    <tr>\n",
              "      <th>109</th>\n",
              "      <td>14.31</td>\n",
              "      <td>2</td>\n",
              "      <td>1.0</td>\n",
              "      <td>0.0</td>\n",
              "      <td>NaN</td>\n",
              "      <td>0.0</td>\n",
              "      <td>1.0</td>\n",
              "      <td>0.0</td>\n",
              "      <td>0.0</td>\n",
              "      <td>1.0</td>\n",
              "      <td>0.0</td>\n",
              "      <td>4.00</td>\n",
              "      <td>2.192613</td>\n",
              "    </tr>\n",
              "  </tbody>\n",
              "</table>\n",
              "<p>74 rows × 13 columns</p>\n",
              "</div>\n",
              "      <button class=\"colab-df-convert\" onclick=\"convertToInteractive('df-959970b2-c8fe-4296-bdca-baea5e180f2e')\"\n",
              "              title=\"Convert this dataframe to an interactive table.\"\n",
              "              style=\"display:none;\">\n",
              "        \n",
              "  <svg xmlns=\"http://www.w3.org/2000/svg\" height=\"24px\"viewBox=\"0 0 24 24\"\n",
              "       width=\"24px\">\n",
              "    <path d=\"M0 0h24v24H0V0z\" fill=\"none\"/>\n",
              "    <path d=\"M18.56 5.44l.94 2.06.94-2.06 2.06-.94-2.06-.94-.94-2.06-.94 2.06-2.06.94zm-11 1L8.5 8.5l.94-2.06 2.06-.94-2.06-.94L8.5 2.5l-.94 2.06-2.06.94zm10 10l.94 2.06.94-2.06 2.06-.94-2.06-.94-.94-2.06-.94 2.06-2.06.94z\"/><path d=\"M17.41 7.96l-1.37-1.37c-.4-.4-.92-.59-1.43-.59-.52 0-1.04.2-1.43.59L10.3 9.45l-7.72 7.72c-.78.78-.78 2.05 0 2.83L4 21.41c.39.39.9.59 1.41.59.51 0 1.02-.2 1.41-.59l7.78-7.78 2.81-2.81c.8-.78.8-2.07 0-2.86zM5.41 20L4 18.59l7.72-7.72 1.47 1.35L5.41 20z\"/>\n",
              "  </svg>\n",
              "      </button>\n",
              "      \n",
              "  <style>\n",
              "    .colab-df-container {\n",
              "      display:flex;\n",
              "      flex-wrap:wrap;\n",
              "      gap: 12px;\n",
              "    }\n",
              "\n",
              "    .colab-df-convert {\n",
              "      background-color: #E8F0FE;\n",
              "      border: none;\n",
              "      border-radius: 50%;\n",
              "      cursor: pointer;\n",
              "      display: none;\n",
              "      fill: #1967D2;\n",
              "      height: 32px;\n",
              "      padding: 0 0 0 0;\n",
              "      width: 32px;\n",
              "    }\n",
              "\n",
              "    .colab-df-convert:hover {\n",
              "      background-color: #E2EBFA;\n",
              "      box-shadow: 0px 1px 2px rgba(60, 64, 67, 0.3), 0px 1px 3px 1px rgba(60, 64, 67, 0.15);\n",
              "      fill: #174EA6;\n",
              "    }\n",
              "\n",
              "    [theme=dark] .colab-df-convert {\n",
              "      background-color: #3B4455;\n",
              "      fill: #D2E3FC;\n",
              "    }\n",
              "\n",
              "    [theme=dark] .colab-df-convert:hover {\n",
              "      background-color: #434B5C;\n",
              "      box-shadow: 0px 1px 3px 1px rgba(0, 0, 0, 0.15);\n",
              "      filter: drop-shadow(0px 1px 2px rgba(0, 0, 0, 0.3));\n",
              "      fill: #FFFFFF;\n",
              "    }\n",
              "  </style>\n",
              "\n",
              "      <script>\n",
              "        const buttonEl =\n",
              "          document.querySelector('#df-959970b2-c8fe-4296-bdca-baea5e180f2e button.colab-df-convert');\n",
              "        buttonEl.style.display =\n",
              "          google.colab.kernel.accessAllowed ? 'block' : 'none';\n",
              "\n",
              "        async function convertToInteractive(key) {\n",
              "          const element = document.querySelector('#df-959970b2-c8fe-4296-bdca-baea5e180f2e');\n",
              "          const dataTable =\n",
              "            await google.colab.kernel.invokeFunction('convertToInteractive',\n",
              "                                                     [key], {});\n",
              "          if (!dataTable) return;\n",
              "\n",
              "          const docLinkHtml = 'Like what you see? Visit the ' +\n",
              "            '<a target=\"_blank\" href=https://colab.research.google.com/notebooks/data_table.ipynb>data table notebook</a>'\n",
              "            + ' to learn more about interactive tables.';\n",
              "          element.innerHTML = '';\n",
              "          dataTable['output_type'] = 'display_data';\n",
              "          await google.colab.output.renderOutput(dataTable, element);\n",
              "          const docLink = document.createElement('div');\n",
              "          docLink.innerHTML = docLinkHtml;\n",
              "          element.appendChild(docLink);\n",
              "        }\n",
              "      </script>\n",
              "    </div>\n",
              "  </div>\n",
              "  "
            ]
          },
          "metadata": {},
          "execution_count": 248
        }
      ]
    },
    {
      "cell_type": "code",
      "source": [
        "# Counting the records when the actual and the tip are the same\n",
        "(test_dataset['Actual_tip'] == test_dataset['Predict_tip']).value_counts()"
      ],
      "metadata": {
        "colab": {
          "base_uri": "https://localhost:8080/"
        },
        "id": "Kbrw8GXy6yN2",
        "outputId": "765718e3-50e5-4424-c574-cf70e42311f7"
      },
      "execution_count": 249,
      "outputs": [
        {
          "output_type": "execute_result",
          "data": {
            "text/plain": [
              "False    74\n",
              "dtype: int64"
            ]
          },
          "metadata": {},
          "execution_count": 249
        }
      ]
    },
    {
      "cell_type": "code",
      "source": [
        "coeff_df = pd.DataFrame(linearmodel.coef_,X.columns,columns=['Coefficient'])\n",
        "coeff_df"
      ],
      "metadata": {
        "colab": {
          "base_uri": "https://localhost:8080/",
          "height": 363
        },
        "id": "w-GXkBhc6yIu",
        "outputId": "2a4629b5-774d-42b1-8741-f9295a9f6627"
      },
      "execution_count": 250,
      "outputs": [
        {
          "output_type": "execute_result",
          "data": {
            "text/plain": [
              "             Coefficient\n",
              "total_bill      0.089239\n",
              "size            0.242856\n",
              "sex_Female     -0.021556\n",
              "sex_Male        0.021556\n",
              "day_Fri         0.323162\n",
              "day_Sat        -0.053214\n",
              "day_Sun         0.033090\n",
              "day_Thur       -0.303038\n",
              "time_Dinner    -0.199509\n",
              "time_Lunch      0.199509"
            ],
            "text/html": [
              "\n",
              "  <div id=\"df-496a0730-9202-40f4-85da-c7355a9acd9b\">\n",
              "    <div class=\"colab-df-container\">\n",
              "      <div>\n",
              "<style scoped>\n",
              "    .dataframe tbody tr th:only-of-type {\n",
              "        vertical-align: middle;\n",
              "    }\n",
              "\n",
              "    .dataframe tbody tr th {\n",
              "        vertical-align: top;\n",
              "    }\n",
              "\n",
              "    .dataframe thead th {\n",
              "        text-align: right;\n",
              "    }\n",
              "</style>\n",
              "<table border=\"1\" class=\"dataframe\">\n",
              "  <thead>\n",
              "    <tr style=\"text-align: right;\">\n",
              "      <th></th>\n",
              "      <th>Coefficient</th>\n",
              "    </tr>\n",
              "  </thead>\n",
              "  <tbody>\n",
              "    <tr>\n",
              "      <th>total_bill</th>\n",
              "      <td>0.089239</td>\n",
              "    </tr>\n",
              "    <tr>\n",
              "      <th>size</th>\n",
              "      <td>0.242856</td>\n",
              "    </tr>\n",
              "    <tr>\n",
              "      <th>sex_Female</th>\n",
              "      <td>-0.021556</td>\n",
              "    </tr>\n",
              "    <tr>\n",
              "      <th>sex_Male</th>\n",
              "      <td>0.021556</td>\n",
              "    </tr>\n",
              "    <tr>\n",
              "      <th>day_Fri</th>\n",
              "      <td>0.323162</td>\n",
              "    </tr>\n",
              "    <tr>\n",
              "      <th>day_Sat</th>\n",
              "      <td>-0.053214</td>\n",
              "    </tr>\n",
              "    <tr>\n",
              "      <th>day_Sun</th>\n",
              "      <td>0.033090</td>\n",
              "    </tr>\n",
              "    <tr>\n",
              "      <th>day_Thur</th>\n",
              "      <td>-0.303038</td>\n",
              "    </tr>\n",
              "    <tr>\n",
              "      <th>time_Dinner</th>\n",
              "      <td>-0.199509</td>\n",
              "    </tr>\n",
              "    <tr>\n",
              "      <th>time_Lunch</th>\n",
              "      <td>0.199509</td>\n",
              "    </tr>\n",
              "  </tbody>\n",
              "</table>\n",
              "</div>\n",
              "      <button class=\"colab-df-convert\" onclick=\"convertToInteractive('df-496a0730-9202-40f4-85da-c7355a9acd9b')\"\n",
              "              title=\"Convert this dataframe to an interactive table.\"\n",
              "              style=\"display:none;\">\n",
              "        \n",
              "  <svg xmlns=\"http://www.w3.org/2000/svg\" height=\"24px\"viewBox=\"0 0 24 24\"\n",
              "       width=\"24px\">\n",
              "    <path d=\"M0 0h24v24H0V0z\" fill=\"none\"/>\n",
              "    <path d=\"M18.56 5.44l.94 2.06.94-2.06 2.06-.94-2.06-.94-.94-2.06-.94 2.06-2.06.94zm-11 1L8.5 8.5l.94-2.06 2.06-.94-2.06-.94L8.5 2.5l-.94 2.06-2.06.94zm10 10l.94 2.06.94-2.06 2.06-.94-2.06-.94-.94-2.06-.94 2.06-2.06.94z\"/><path d=\"M17.41 7.96l-1.37-1.37c-.4-.4-.92-.59-1.43-.59-.52 0-1.04.2-1.43.59L10.3 9.45l-7.72 7.72c-.78.78-.78 2.05 0 2.83L4 21.41c.39.39.9.59 1.41.59.51 0 1.02-.2 1.41-.59l7.78-7.78 2.81-2.81c.8-.78.8-2.07 0-2.86zM5.41 20L4 18.59l7.72-7.72 1.47 1.35L5.41 20z\"/>\n",
              "  </svg>\n",
              "      </button>\n",
              "      \n",
              "  <style>\n",
              "    .colab-df-container {\n",
              "      display:flex;\n",
              "      flex-wrap:wrap;\n",
              "      gap: 12px;\n",
              "    }\n",
              "\n",
              "    .colab-df-convert {\n",
              "      background-color: #E8F0FE;\n",
              "      border: none;\n",
              "      border-radius: 50%;\n",
              "      cursor: pointer;\n",
              "      display: none;\n",
              "      fill: #1967D2;\n",
              "      height: 32px;\n",
              "      padding: 0 0 0 0;\n",
              "      width: 32px;\n",
              "    }\n",
              "\n",
              "    .colab-df-convert:hover {\n",
              "      background-color: #E2EBFA;\n",
              "      box-shadow: 0px 1px 2px rgba(60, 64, 67, 0.3), 0px 1px 3px 1px rgba(60, 64, 67, 0.15);\n",
              "      fill: #174EA6;\n",
              "    }\n",
              "\n",
              "    [theme=dark] .colab-df-convert {\n",
              "      background-color: #3B4455;\n",
              "      fill: #D2E3FC;\n",
              "    }\n",
              "\n",
              "    [theme=dark] .colab-df-convert:hover {\n",
              "      background-color: #434B5C;\n",
              "      box-shadow: 0px 1px 3px 1px rgba(0, 0, 0, 0.15);\n",
              "      filter: drop-shadow(0px 1px 2px rgba(0, 0, 0, 0.3));\n",
              "      fill: #FFFFFF;\n",
              "    }\n",
              "  </style>\n",
              "\n",
              "      <script>\n",
              "        const buttonEl =\n",
              "          document.querySelector('#df-496a0730-9202-40f4-85da-c7355a9acd9b button.colab-df-convert');\n",
              "        buttonEl.style.display =\n",
              "          google.colab.kernel.accessAllowed ? 'block' : 'none';\n",
              "\n",
              "        async function convertToInteractive(key) {\n",
              "          const element = document.querySelector('#df-496a0730-9202-40f4-85da-c7355a9acd9b');\n",
              "          const dataTable =\n",
              "            await google.colab.kernel.invokeFunction('convertToInteractive',\n",
              "                                                     [key], {});\n",
              "          if (!dataTable) return;\n",
              "\n",
              "          const docLinkHtml = 'Like what you see? Visit the ' +\n",
              "            '<a target=\"_blank\" href=https://colab.research.google.com/notebooks/data_table.ipynb>data table notebook</a>'\n",
              "            + ' to learn more about interactive tables.';\n",
              "          element.innerHTML = '';\n",
              "          dataTable['output_type'] = 'display_data';\n",
              "          await google.colab.output.renderOutput(dataTable, element);\n",
              "          const docLink = document.createElement('div');\n",
              "          docLink.innerHTML = docLinkHtml;\n",
              "          element.appendChild(docLink);\n",
              "        }\n",
              "      </script>\n",
              "    </div>\n",
              "  </div>\n",
              "  "
            ]
          },
          "metadata": {},
          "execution_count": 250
        }
      ]
    },
    {
      "cell_type": "code",
      "source": [
        "print('MAE:', metrics.mean_absolute_error(y_test, predictions))\n",
        "print('MSE:', metrics.mean_squared_error(y_test, predictions))\n",
        "print('RMSE:', np.sqrt(metrics.mean_squared_error(y_test, predictions)))"
      ],
      "metadata": {
        "colab": {
          "base_uri": "https://localhost:8080/"
        },
        "id": "GJmDEI9S89r2",
        "outputId": "d9830170-e637-4f4a-a2e6-d819258511e5"
      },
      "execution_count": 251,
      "outputs": [
        {
          "output_type": "stream",
          "name": "stdout",
          "text": [
            "MAE: 0.7402337209747055\n",
            "MSE: 0.9466188794573892\n",
            "RMSE: 0.9729434102029723\n"
          ]
        }
      ]
    },
    {
      "cell_type": "code",
      "source": [
        "# Score the Model using cross validation\n",
        "\n",
        "cross_val_score(\n",
        "    linearmodel, #model\n",
        "    X_train, \n",
        "    y_train, \n",
        "    cv=5, \n",
        "    scoring=\"neg_mean_absolute_error\" # scoring metric to use \n",
        ").mean()"
      ],
      "metadata": {
        "colab": {
          "base_uri": "https://localhost:8080/"
        },
        "id": "MvH7RwAiuQJ5",
        "outputId": "1ef91722-0cdf-4de1-c9b4-36317cb48383"
      },
      "execution_count": 252,
      "outputs": [
        {
          "output_type": "execute_result",
          "data": {
            "text/plain": [
              "-0.8201780483750157"
            ]
          },
          "metadata": {},
          "execution_count": 252
        }
      ]
    }
  ]
}